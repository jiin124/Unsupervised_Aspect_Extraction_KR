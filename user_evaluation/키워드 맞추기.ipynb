{
 "cells": [
  {
   "cell_type": "code",
   "execution_count": 1,
   "metadata": {},
   "outputs": [],
   "source": [
    "import pandas as pd\n"
   ]
  },
  {
   "attachments": {},
   "cell_type": "markdown",
   "metadata": {},
   "source": [
    "## Aspect 라벨링\n",
    "\n",
    "ABAE 모델로 추출한 Aspect를 단어사전으로 만들기"
   ]
  },
  {
   "cell_type": "code",
   "execution_count": 118,
   "metadata": {},
   "outputs": [
    {
     "data": {
      "text/plain": [
       "103"
      ]
     },
     "execution_count": 118,
     "metadata": {},
     "output_type": "execute_result"
    }
   ],
   "source": [
    "#가성비\n",
    "price='일반 값 가격 대비 가성비 특 가 나은 평소 평점 사실 금액 믿다 사이트 실제 이름 이상은 아깝다 감안 고르다 이라고 모델 원대 별관 최저 후회 이라니 짜다 만도 원도 리뷰 묶다 스위트 급 지불 싼값 솔직하다 당 낼 만큼의 책정 극 요즘 다르다 게스트하우스 가치 다라 기준 아이파크 고민 평일 추석 어플 비용 돈 성급 값어치 용도 이라기보다는 감수 이유 이에요 스위트룸 블로그 이돈 표현 이지 블룸 클래스 콘도 회원 속지 여관 저가 장사 그중 보단 내야 비즈니스 낫 그랜드 해봤다 정 할인 예매 아무리 원인 펜션 만원 만이 주니어 등급 보다는 혹 개도 결정 상품 이만 성수기 이라는 오천 타 기대다'\n",
    "price=price.split(' ')\n",
    "len(price)"
   ]
  },
  {
   "cell_type": "code",
   "execution_count": 13,
   "metadata": {},
   "outputs": [],
   "source": [
    "#위치\n",
    "place='주문진 광장시장 자갈치시장 횟집 건대 수산시장 유명하다 남대문 접근 밥집 구로 부근 마을 잠실 인사동 금성 덕수궁 한강 운동 해안가 여행지 코엑스 홍대 서울역 광화문 제주시 시티 을지로 대게 경복궁 돌아보다 치기 해장국 코스 명소 설 요트 근방 물회 맛집들이 종로 시청 한적하다 야시장 벗어나다 한가운데 외진 해상 해수욕 몰다 운치 광장 동문시장 가든 경포 갈수 투어 롯데마트 강남 숍 여의도 중심지 콘서트 체험 객리 춘천 용이하다 탁월하다 다이소 서귀포시 존 자연 과의 즐 롭고 중문 마포 오동도 남포동 동쪽 지로 올레길 와는 엑스포 해안 영등포 역사 고속 유명 와의 스카이 식당가 레이스 외곽 주민 외다 국제 천지연 요리 남부 공원 동대문 중앙시장 시장 지하철역 올레 터미널 관광지 명동 이마트 쇼핑 대포항 해수욕장 구경 버스 정류장 한옥마을 케이블카 근접하다 시내 지하철 가까이 호선 인근 번화가 백화점 인접 버스정류장 걸어가다 해변 도보 해운대 주요 음식점 삼포 항 종로 차로 센터 관광 유명 엑스포 오동도 여의도 낙산사 먹거리 애월 동문 광안 중심 산책 서귀포시 역도 대중교통 스타벅스 마을 공항 광화문 남부 맛집 포차 바닷가 낭만 이동 설악산 청계천 아바이 가깝다 청초 서귀포 중문 산책로 컨벤션 수산시장 덕수궁 코스 객리 아울렛 동문시장 건너 접근 멀다 함덕 유명하다 영등포 경포 해안 올림픽공원 시청 천지연 근처 마포역 골목 과도 횟집 마트 공항버스 코앞 이중섭 리무진'\n",
    "place=place.split(' ')"
   ]
  },
  {
   "cell_type": "code",
   "execution_count": 14,
   "metadata": {},
   "outputs": [],
   "source": [
    "#룸\n",
    "room='물때 벽지 구멍 곰팡이 변기 타일 소파 샤워기 자국 세면대 커버 털 곳곳 베개 찢어지다 얼룩 헤드 깔다 샤워실 흔적 물질 휴지 검다 핏 얇다 실리콘 지저분하다 바닥 조명 머리 군데군데 머리카락 오염 덕지덕지 찌들다 수구 소변 시트 벌레 가득하다 걸이 방안 가득 카펫 의자 묻다 새다 천장 걸레 찝찝하다 욕실 놓이다 구석 가닥 패브릭 커튼 습하다 잔뜩 호스 앉다 시커멓다 유리 벽 방바닥 비데 발 뭉치 얼룩지다 뜯다 이불 누렇다 붉다 너덜너덜 싱크대 창틀 누런 탁자 썩다 젖다 쓰레기 선반 그대로 모서리 매트리스 넘치다 벽면 쉰내 부스 페인트 덮다 여기저기 화장대다 더럽다 눅눅하다 축축하다 테이블 빠지다 닿다 조각 방충 연식 깨끗 자체 낡다 펴다 느껴지다 디자인 외관 인테리어 내부 가구 실내 구조 노후하다 어둡다 최신 답답하다 구조도 고급스럽다 두운 널찍하다 작고 유리창 낙후 방과 리모델링 작 청결하다 양호 세련되다 올드 집기 노후 지은 불결하다 오래되다 감다 침구류 리노베이션 지은지 침실 앤티크 뽀송하다 리뉴얼 모던 심각하다 작은방 노후화 크기 개별 새롭다 달리 낮다 살짝 거실 덜하다 낡음 군더더기 처럼 깔끔하다 사이즈 보수 쾌적하다 수압 깨끗하다 푹신하다 이며 싱크대 안쪽 우수하다 미니 아담하다 유지 산뜻하다 여인숙 원룸 공동 어수선하다 오피스텔 넓이 클래식 옛날 신축 부족함 겉 신식 대체로 부엌 지저분하다 칙칙하다 커서 눅눅하다 방도 조명도 정돈 물곰팡이 시급하다 고시원 심플 엄청나다 닿다 뚜껑 서랍 덕지덕지 호스 수구 시커멓다 녹슬다 빨갛다 매트 사이사이 자꾸 천정 뜯다 오물 틈 망가지다 문도 소변 모서리 넘치다 협탁 실리콘 하얗다 놓이다 양념 녹 붉다 스탠드 구가 전기포트 한쪽 방바닥 수전 수도꼭지 찍히다 뭉치 얇다 흐르다 벗겨지다 전등 화장대다 덩어리 여니 출입문 말르다 조각 고여 전구 페인트 회색 고무 탁자 정체 밀다 가루 고리 시체 누런 나무 맨발 물질 잔뜩 손잡이 검다 튀어나오다 발 흘러나오다 망은 미끄럽다 필터 썩다 군데군데 흔적 깜짝 쉰내 노랗다 방안 가득 블라인드 물곰팡이 찌들다 현관 뭉텅 찬 찌르다 덮개 벽면 흔들리다 방기 플라스틱 환풍기 담배꽁초 아래쪽 날아다니다 방충 꺼지다 지 머리 기침 용품 일회용 린스 치약 면도기 샴푸 물품 칫솔 세면도구 일회용품 비누 세트 워시 보디 지급 타월 면봉 가운 스펀지 쓸다 드라이기 슬리퍼 식기 어메니티 컵 덜 커피포트 아예 로션 세탁 컨디셔 빗 점검 설거지 세팅 라든지 생수 동작 음료 구비 팩 채우다 충전기 라도 부러지다 리모컨 체크 건지다 방치 티백 팅 면도 제품 쓰레기통 시스템 개선 일체 수건 대충 최소한 물건 전혀 가져가다 폼 세면 음식물 작동 비품 화 미비 휴지 준 흔 빨다 인력 세제 달랑 투명 필요 분실 회용 판매 써다 리필 이해 여분 누수 개별 챙기다 기능 솜 문제 구가 냉장 널브러져 채 전원 양심 오염 세월 훌륭하다 만족 짱 굿 만족스럽다 치고는 나름 만족도 무난 뛰어나다 대체로 체적 완벽하다 그럭저럭 그다지 최상 성 우수하다 규모 부실하다 조건 나머지 가성비도 만족하다 적당하다 퀄리티 말고는 신식 갖추다 제외 워낙 안락하다 편의 경치 환경 스럽지 쏘쏘 세련되다 빼놓다 부대시설 너무나 인테리어 고급스럽다 쾌적하다 측면 그나마 분위기 경관 아주 반면 완전하다 굿굿 편입 청결하다 작 노후하다 깨끗 만이 대부분 외관 갑 군더더기 입지 고급 평범하다 깔끔하다 언제나 명성 아침식사 이하 양호 강추 누리 보다도 편임 솔직하다 모든 정갈하다 기대하다 구성 대박 웰컴 로는 그만큼 설다 가장 편 적절하다 로서 토요코인 한가지 저렴 최신 만큼의 완전 보통 종합 숙박시설 빈약하다 편안함'\n",
    "room=room.split(' ')"
   ]
  },
  {
   "cell_type": "code",
   "execution_count": 15,
   "metadata": {},
   "outputs": [],
   "source": [
    "#목적\n",
    "purpose='계획 제주도 휴가 강릉 호캉스 베네치아 예정 부산 항상 출장 담 커플 강원도 알아보다 머물다 가요 목적 전주 자주 가도 묵다고 가족여행 무조건 지금껏 의향 떠나다 서울 간다 기간 아들 기회 동반 아산병원 매년 국내 후회 더원 행복하다 모처럼 다녀오다 끼리 겁니다 첫 고민 제주 추억 신화 결혼 아동 검색 장소 월드 급하다 가면 가볍다 일로 병원 또는 머무르다 찾다 해드리다 양양 여름 세인트존스 지인 개월 여수 달 건데 부모님 카카오 늘 휴식 유아 단위 내년 박만 연인 지로 공연 철 장기 즐겁다 친구 작년 델피 기념 베이 전날 마리나 추석 한국 거임 신라스테이 보내다 가을 에게도 가게 에겐 지난번'\n",
    "purpose=purpose.split(' ')"
   ]
  },
  {
   "cell_type": "code",
   "execution_count": 16,
   "metadata": {},
   "outputs": [],
   "source": [
    "#서비스\n",
    "service='번호 연락 문의 미리 항의 카드 프런트로 확인 얘기 퇴실 하니 실수 상황 물어보다 먼저 전화 환불 답변 컴 직접 플레인 요구 조치 전화하다 죄송하다 이야기 질문 사과 카운터 사전 키 대답 잘못 듣다 전달 부탁 레이 손님 말씀드리다 공지 체크아웃 설명 귀찮다 해달라다 빨리 표 과정 말씀 트 처리 정보 문자 입실 요청 가져다주다 발생 관련 기다리다 취소 지나다 미안하다 체크 얼리다 무시 옴 연장 시로 주심 외출 갖다 통화 내용 본인 오후 인사 사항 방송 교환 맞추다 변경 규정 원래 정확하다 당일 아무렇다 입장 시라 취 측 보상 이후 뽑다 여쭈다 돌리다 스트레스 방법 이미 한테 수리 메일 불친절하다 불친절 응대 여직원 님 데스크 말투 께서 대응 태도 대해 표정 상냥하다 미숙 대처 남자 리셉션 께 도와주다 분들 담당 교육 페셔널 관계자 상주 주인 아르바이트생 호텔리어 인포 빠르다 감사하다 아주머니 지배인 직원 프런트 매니저 서도 말씀드리다 배려 친절하다 퉁 근무 감사 마주치다 대한 메이드 하우스키퍼 친절 미소 체크인도 웃다 나이 무표정 대하 젊다 하나같이 무뚝뚝하다 소통 인사 성의 고객 남성 카운터 스태프 마인드 사항 감동 모습 무례하다 적극적 여자 매뉴얼 도움 싹수없다 취 말씀 착용 바쁘다 키핑 노력 분도 한테 프로 처리 스텝 주심 안내 심 인상 들어주다 질문 기사 접수 서비스 계시 여성 과정 사장 무성의 아저씨 입력 오류 방송 어떠하다 영수증 보상 뽑다 정확하다 번만 끊다 규정 자르다 옴 말로 팀 무시 명도 입 퇴근 반응 본인 양해 달래다 분실물 시라 반납 서로 선 문자 오늘 소용없다 작업 풀다 시간대 체 어이없다 통보 하자 뭘 대놓고 책임 메일 둥 입장 신분증 읽다 황당하다 란 아무렇다 던지다 보라 관리자 미안하다 빨리 부르다 실수 뭐라다 표 지난 당하다 돌리다 질문 연장 피드백 차례 찜질방 분실 주의 피해 융통성 내면 돌려주다 대책 화재 보관 대서 전달 담당자 해당 궁금하다 이라도 봉 한밤중 게스트 거절 언급 벨 조치 접수 놈 내용 제기 듯이 맞추다 바뀌다 바르다 날짜 방법 종이 넘기다'\n",
    "service=service.split(' ')"
   ]
  },
  {
   "cell_type": "code",
   "execution_count": 17,
   "metadata": {},
   "outputs": [],
   "source": [
    "#기타\n",
    "etc='곤란하다 하고도 필수 세상 깨 출입구 대체 개수대 곱다 셀 희다 족 아마 층수 아마도 덤 한국인 탑 어서 지나치다 하나요 링 짓 정작 가림 인가요 생 무지 지고 욕 부 동행 톤 계절 위험하다 라니 그룹 슬 스 그건 판 지나 사랑 컴퓨터 자도 황당 류 하나로 불가능하다 이벤트 풀기 건조대 신랑 아직도 학생 더불다 냄비 떼다 게임 어르신 감옥 돌 요가 거주 화나다 문구 적어도 뻔 하단 햄 소독 화려하다 거미 줄다 속상하다 형식 나무라다 제목 왠지 이래저래 홀 한동안 포인트 동남아 딸리다 일부 상상 떠오르다 제발 아무튼 광고 전쟁 맨 적히다 특이하다 일인 사라지다 오늘 명의 품다'\n",
    "etc=etc.split(' ')"
   ]
  },
  {
   "cell_type": "code",
   "execution_count": 18,
   "metadata": {},
   "outputs": [],
   "source": [
    "#부대시설\n",
    "bu='외부 주차장이 공영 공용 주차공간 소하 지하 타워 협 야외 기계 지상 차량 공터 노상 자리 어렵다 대수 세우다 주차장 협소 공 길가 진입 미터 차서 가능 입구 차라 부족 대야 주차 통로 유료 식 꽉 엘리베이터 에다가 수용 번거롭다 협소함 만석 늘다 요원 간격 불편 복잡하다 전기차 어려움 매점 통행 건너 이용자 걸어오다 출입 가능하다 길다 혼잡하다 차지 건너편 발레파킹 노래방 사우나 관리인 헬 사고 차 느리다 대로변 길 운행 협소합 이동해 아울렛 길이 캐리어 계단 무인 선착순 부족하다 커피숍 차도 대기 구역 안내받다 공간 반입 세탁실 까지만 제한 힘드다 마트 가야 용두산 운전 턱 취사 무료 아저씨 옥상'\n",
    "bu=bu.split(' ')"
   ]
  },
  {
   "cell_type": "code",
   "execution_count": 69,
   "metadata": {},
   "outputs": [
    {
     "data": {
      "text/html": [
       "<div>\n",
       "<style scoped>\n",
       "    .dataframe tbody tr th:only-of-type {\n",
       "        vertical-align: middle;\n",
       "    }\n",
       "\n",
       "    .dataframe tbody tr th {\n",
       "        vertical-align: top;\n",
       "    }\n",
       "\n",
       "    .dataframe thead th {\n",
       "        text-align: right;\n",
       "    }\n",
       "</style>\n",
       "<table border=\"1\" class=\"dataframe\">\n",
       "  <thead>\n",
       "    <tr style=\"text-align: right;\">\n",
       "      <th></th>\n",
       "      <th>name</th>\n",
       "      <th>review</th>\n",
       "      <th>spell_check_review</th>\n",
       "      <th>seperate_review</th>\n",
       "      <th>review_clean</th>\n",
       "    </tr>\n",
       "  </thead>\n",
       "  <tbody>\n",
       "    <tr>\n",
       "      <th>0</th>\n",
       "      <td>그랜드 하얏트 제주</td>\n",
       "      <td>시설도 깨끗하고 호텔에서 내려다보는 뷰가 예술이네요 ㅎㅎ 다음 제주도 여행에도 방문...</td>\n",
       "      <td>시설도 깨끗하고 호텔에서 내려다보는 뷰가 예술이네요 ㅎㅎ 다음 제주도 여행에도 방문...</td>\n",
       "      <td>시설도 깨끗하고 호텔에서 내려다보는 뷰가 예술이네요 ㅎㅎ</td>\n",
       "      <td>시설 깨끗하다 호텔 내려다보다 뷰 예술 이네 요 ㅎㅎ</td>\n",
       "    </tr>\n",
       "    <tr>\n",
       "      <th>1</th>\n",
       "      <td>그랜드 하얏트 제주</td>\n",
       "      <td>시설도 깨끗하고 호텔에서 내려다보는 뷰가 예술이네요 ㅎㅎ 다음 제주도 여행에도 방문...</td>\n",
       "      <td>시설도 깨끗하고 호텔에서 내려다보는 뷰가 예술이네요 ㅎㅎ 다음 제주도 여행에도 방문...</td>\n",
       "      <td>다음 제주도 여행에도 방문하고 싶습니다!</td>\n",
       "      <td>제주도 여행 에도 방문 하고 싶다 !</td>\n",
       "    </tr>\n",
       "    <tr>\n",
       "      <th>2</th>\n",
       "      <td>그랜드 하얏트 제주</td>\n",
       "      <td>우선 공항에서 10분 거리로 접근성이 매우 좋습니다 .  이른 비행이나 늦은 시간...</td>\n",
       "      <td>우선 공항에서 10분 거리로 접근성이 매우 좋습니다.  이른 비행이나 늦은 시간 ...</td>\n",
       "      <td>우선 공항에서 10분 거리로 접근성이 매우 좋습니다.</td>\n",
       "      <td>공항 10분 거리 접근성 매우 좋다 .</td>\n",
       "    </tr>\n",
       "    <tr>\n",
       "      <th>3</th>\n",
       "      <td>그랜드 하얏트 제주</td>\n",
       "      <td>우선 공항에서 10분 거리로 접근성이 매우 좋습니다 .  이른 비행이나 늦은 시간...</td>\n",
       "      <td>우선 공항에서 10분 거리로 접근성이 매우 좋습니다.  이른 비행이나 늦은 시간 ...</td>\n",
       "      <td>이른 비행이나 늦은 시간 주변 이호 테우  애월 해변에서 바다 구경하고 오시면 좋습니다!</td>\n",
       "      <td>이르다 비행 이나 늦다 주변 이호 테 우 애월 해변 바다 구경 하고 오시 면 좋다 !</td>\n",
       "    </tr>\n",
       "    <tr>\n",
       "      <th>4</th>\n",
       "      <td>그랜드 하얏트 제주</td>\n",
       "      <td>우선 공항에서 10분 거리로 접근성이 매우 좋습니다 .  이른 비행이나 늦은 시간...</td>\n",
       "      <td>우선 공항에서 10분 거리로 접근성이 매우 좋습니다.  이른 비행이나 늦은 시간 ...</td>\n",
       "      <td>호텔 내부에 다양하고 맛있는 음식점  포차  라운지 등 즐길 거리가 많습니다</td>\n",
       "      <td>호텔 내부 다양하다 맛있다 음식점 포차 라운지 즐기다 거리 많다</td>\n",
       "    </tr>\n",
       "  </tbody>\n",
       "</table>\n",
       "</div>"
      ],
      "text/plain": [
       "         name                                             review  \\\n",
       "0  그랜드 하얏트 제주  시설도 깨끗하고 호텔에서 내려다보는 뷰가 예술이네요 ㅎㅎ 다음 제주도 여행에도 방문...   \n",
       "1  그랜드 하얏트 제주  시설도 깨끗하고 호텔에서 내려다보는 뷰가 예술이네요 ㅎㅎ 다음 제주도 여행에도 방문...   \n",
       "2  그랜드 하얏트 제주   우선 공항에서 10분 거리로 접근성이 매우 좋습니다 .  이른 비행이나 늦은 시간...   \n",
       "3  그랜드 하얏트 제주   우선 공항에서 10분 거리로 접근성이 매우 좋습니다 .  이른 비행이나 늦은 시간...   \n",
       "4  그랜드 하얏트 제주   우선 공항에서 10분 거리로 접근성이 매우 좋습니다 .  이른 비행이나 늦은 시간...   \n",
       "\n",
       "                                  spell_check_review  \\\n",
       "0  시설도 깨끗하고 호텔에서 내려다보는 뷰가 예술이네요 ㅎㅎ 다음 제주도 여행에도 방문...   \n",
       "1  시설도 깨끗하고 호텔에서 내려다보는 뷰가 예술이네요 ㅎㅎ 다음 제주도 여행에도 방문...   \n",
       "2   우선 공항에서 10분 거리로 접근성이 매우 좋습니다.  이른 비행이나 늦은 시간 ...   \n",
       "3   우선 공항에서 10분 거리로 접근성이 매우 좋습니다.  이른 비행이나 늦은 시간 ...   \n",
       "4   우선 공항에서 10분 거리로 접근성이 매우 좋습니다.  이른 비행이나 늦은 시간 ...   \n",
       "\n",
       "                                     seperate_review  \\\n",
       "0                    시설도 깨끗하고 호텔에서 내려다보는 뷰가 예술이네요 ㅎㅎ   \n",
       "1                             다음 제주도 여행에도 방문하고 싶습니다!   \n",
       "2                      우선 공항에서 10분 거리로 접근성이 매우 좋습니다.   \n",
       "3  이른 비행이나 늦은 시간 주변 이호 테우  애월 해변에서 바다 구경하고 오시면 좋습니다!   \n",
       "4         호텔 내부에 다양하고 맛있는 음식점  포차  라운지 등 즐길 거리가 많습니다   \n",
       "\n",
       "                                      review_clean  \n",
       "0                    시설 깨끗하다 호텔 내려다보다 뷰 예술 이네 요 ㅎㅎ  \n",
       "1                             제주도 여행 에도 방문 하고 싶다 !  \n",
       "2                            공항 10분 거리 접근성 매우 좋다 .  \n",
       "3  이르다 비행 이나 늦다 주변 이호 테 우 애월 해변 바다 구경 하고 오시 면 좋다 !  \n",
       "4              호텔 내부 다양하다 맛있다 음식점 포차 라운지 즐기다 거리 많다  "
      ]
     },
     "execution_count": 69,
     "metadata": {},
     "output_type": "execute_result"
    }
   ],
   "source": [
    "df=pd.read_csv(r'C:\\Users\\user\\OneDrive\\바탕화~1-DESKTOP-R00ORLS-348\\NLP\\호텔 리뷰 전처리\\여기어때 리뷰 형태소 원형.csv')\n",
    "df.head()"
   ]
  },
  {
   "cell_type": "code",
   "execution_count": 70,
   "metadata": {},
   "outputs": [
    {
     "name": "stdout",
     "output_type": "stream",
     "text": [
      "<class 'pandas.core.frame.DataFrame'>\n",
      "RangeIndex: 104216 entries, 0 to 104215\n",
      "Data columns (total 5 columns):\n",
      " #   Column              Non-Null Count   Dtype \n",
      "---  ------              --------------   ----- \n",
      " 0   name                104216 non-null  object\n",
      " 1   review              104216 non-null  object\n",
      " 2   spell_check_review  104216 non-null  object\n",
      " 3   seperate_review     104216 non-null  object\n",
      " 4   review_clean        104216 non-null  object\n",
      "dtypes: object(5)\n",
      "memory usage: 4.0+ MB\n"
     ]
    }
   ],
   "source": [
    "df.info()"
   ]
  },
  {
   "attachments": {},
   "cell_type": "markdown",
   "metadata": {},
   "source": [
    "추가한 여기어때 리뷰는 35845 개"
   ]
  },
  {
   "cell_type": "code",
   "execution_count": 145,
   "metadata": {},
   "outputs": [
    {
     "data": {
      "text/html": [
       "<div>\n",
       "<style scoped>\n",
       "    .dataframe tbody tr th:only-of-type {\n",
       "        vertical-align: middle;\n",
       "    }\n",
       "\n",
       "    .dataframe tbody tr th {\n",
       "        vertical-align: top;\n",
       "    }\n",
       "\n",
       "    .dataframe thead th {\n",
       "        text-align: right;\n",
       "    }\n",
       "</style>\n",
       "<table border=\"1\" class=\"dataframe\">\n",
       "  <thead>\n",
       "    <tr style=\"text-align: right;\">\n",
       "      <th></th>\n",
       "      <th>Unnamed: 0</th>\n",
       "      <th>name</th>\n",
       "      <th>review</th>\n",
       "      <th>spell_check_review</th>\n",
       "      <th>review_clean</th>\n",
       "      <th>label</th>\n",
       "    </tr>\n",
       "  </thead>\n",
       "  <tbody>\n",
       "    <tr>\n",
       "      <th>0</th>\n",
       "      <td>0</td>\n",
       "      <td>제주 웨스턴그레이스 서귀포</td>\n",
       "      <td>최고의 숙소입니다. 무조건 재방문하겠습니다.</td>\n",
       "      <td>최고의 숙소입니다.</td>\n",
       "      <td>최고 숙소 .</td>\n",
       "      <td>기타</td>\n",
       "    </tr>\n",
       "    <tr>\n",
       "      <th>1</th>\n",
       "      <td>1</td>\n",
       "      <td>제주 웨스턴그레이스 서귀포</td>\n",
       "      <td>최고의 숙소입니다. 무조건 재방문하겠습니다.</td>\n",
       "      <td>무조건 재방문하겠습니다.</td>\n",
       "      <td>무조건 재 방문 .</td>\n",
       "      <td>기타</td>\n",
       "    </tr>\n",
       "    <tr>\n",
       "      <th>2</th>\n",
       "      <td>2</td>\n",
       "      <td>베니키아 더 제주 리조트</td>\n",
       "      <td>풍경이너무좋았습니다.</td>\n",
       "      <td>풍경이 너무 좋았습니다.</td>\n",
       "      <td>풍경 너무 좋다 .</td>\n",
       "      <td>룸</td>\n",
       "    </tr>\n",
       "    <tr>\n",
       "      <th>3</th>\n",
       "      <td>3</td>\n",
       "      <td>신라스테이 제주</td>\n",
       "      <td>공항근처라 좋았어요</td>\n",
       "      <td>공항 근처라 좋았어요</td>\n",
       "      <td>공항 근처 라 좋다</td>\n",
       "      <td>위치</td>\n",
       "    </tr>\n",
       "    <tr>\n",
       "      <th>4</th>\n",
       "      <td>4</td>\n",
       "      <td>라마다 제주시티 호텔</td>\n",
       "      <td>옆 방 비매너 손님 때문에 방을 옮긴 것 빼고는 만족합니다.</td>\n",
       "      <td>옆방 비매너 손님 때문에 방을 옮긴 것 빼고는 만족합니다.</td>\n",
       "      <td>옆방 비 매너 손님 때문 방 옮기다 빼다 만족하다 .</td>\n",
       "      <td>룸</td>\n",
       "    </tr>\n",
       "  </tbody>\n",
       "</table>\n",
       "</div>"
      ],
      "text/plain": [
       "   Unnamed: 0            name                             review  \\\n",
       "0           0  제주 웨스턴그레이스 서귀포           최고의 숙소입니다. 무조건 재방문하겠습니다.   \n",
       "1           1  제주 웨스턴그레이스 서귀포           최고의 숙소입니다. 무조건 재방문하겠습니다.   \n",
       "2           2   베니키아 더 제주 리조트                        풍경이너무좋았습니다.   \n",
       "3           3        신라스테이 제주                         공항근처라 좋았어요   \n",
       "4           4     라마다 제주시티 호텔  옆 방 비매너 손님 때문에 방을 옮긴 것 빼고는 만족합니다.   \n",
       "\n",
       "                 spell_check_review                   review_clean label  \n",
       "0                        최고의 숙소입니다.                        최고 숙소 .    기타  \n",
       "1                     무조건 재방문하겠습니다.                     무조건 재 방문 .    기타  \n",
       "2                     풍경이 너무 좋았습니다.                     풍경 너무 좋다 .     룸  \n",
       "3                       공항 근처라 좋았어요                     공항 근처 라 좋다    위치  \n",
       "4  옆방 비매너 손님 때문에 방을 옮긴 것 빼고는 만족합니다.  옆방 비 매너 손님 때문 방 옮기다 빼다 만족하다 .     룸  "
      ]
     },
     "execution_count": 145,
     "metadata": {},
     "output_type": "execute_result"
    }
   ],
   "source": [
    "ya=pd.read_excel(r'C:\\Users\\user\\OneDrive\\바탕화~1-DESKTOP-R00ORLS-348\\NLP\\호텔 리뷰 전처리\\야놀자 리뷰 형태소 원형.xlsx')\n",
    "ya.head()"
   ]
  },
  {
   "cell_type": "code",
   "execution_count": 146,
   "metadata": {},
   "outputs": [],
   "source": [
    "ya=ya.drop('Unnamed: 0',axis=1)\n",
    "ya=ya[1600:]\n",
    "ya=ya.reset_index(drop=True)\n",
    "ya=ya.drop('label',axis=1)\n"
   ]
  },
  {
   "cell_type": "code",
   "execution_count": 147,
   "metadata": {},
   "outputs": [],
   "source": [
    "ya=ya[:600]"
   ]
  },
  {
   "cell_type": "code",
   "execution_count": 148,
   "metadata": {},
   "outputs": [
    {
     "data": {
      "text/html": [
       "<div>\n",
       "<style scoped>\n",
       "    .dataframe tbody tr th:only-of-type {\n",
       "        vertical-align: middle;\n",
       "    }\n",
       "\n",
       "    .dataframe tbody tr th {\n",
       "        vertical-align: top;\n",
       "    }\n",
       "\n",
       "    .dataframe thead th {\n",
       "        text-align: right;\n",
       "    }\n",
       "</style>\n",
       "<table border=\"1\" class=\"dataframe\">\n",
       "  <thead>\n",
       "    <tr style=\"text-align: right;\">\n",
       "      <th></th>\n",
       "      <th>name</th>\n",
       "      <th>review</th>\n",
       "      <th>spell_check_review</th>\n",
       "      <th>review_clean</th>\n",
       "    </tr>\n",
       "  </thead>\n",
       "  <tbody>\n",
       "    <tr>\n",
       "      <th>0</th>\n",
       "      <td>EQ STAY</td>\n",
       "      <td>구옥 숙소를 엄청 느낌있게 해둔 곳이라, 너무 좋았어요, 바베큐 진짜 꼭드셔야해요 ...</td>\n",
       "      <td>, , 그런 거 빼고는 다시 갈 의향 있어요</td>\n",
       "      <td>, , 그렇다 거 빼다 다시 갈다 의향</td>\n",
       "    </tr>\n",
       "    <tr>\n",
       "      <th>1</th>\n",
       "      <td>EQ STAY</td>\n",
       "      <td>구옥 숙소를 엄청 느낌있게 해둔 곳이라, 너무 좋았어요, 바베큐 진짜 꼭드셔야해요 ...</td>\n",
       "      <td>완전!</td>\n",
       "      <td>완전 !</td>\n",
       "    </tr>\n",
       "    <tr>\n",
       "      <th>2</th>\n",
       "      <td>더 클라우드 풀&amp;스파</td>\n",
       "      <td>편하게  잘 지내다가 왔습니다, 특히 모바일 체크인하는 방식이 특이했는데 편했습니다...</td>\n",
       "      <td>편하게  잘 지내다가 왔습니다, 특히 모바일 체크인하는 방식이 특이했는데 편했습니다...</td>\n",
       "      <td>편하다 자다 지내다 오다 , 특히 모바일 체크인하다 방식 특이하다 편하다 .., 바...</td>\n",
       "    </tr>\n",
       "    <tr>\n",
       "      <th>3</th>\n",
       "      <td>해비치 호텔&amp;리조트</td>\n",
       "      <td>좋아요,,,,,</td>\n",
       "      <td>좋아요,,,,,</td>\n",
       "      <td>좋다 ,,,,,</td>\n",
       "    </tr>\n",
       "    <tr>\n",
       "      <th>4</th>\n",
       "      <td>호텔 아로하</td>\n",
       "      <td>조금 낡았지만 오션뷰 너무 좋고 만족합니다</td>\n",
       "      <td>조금 낡았지만 오션뷰 너무 좋고 만족합니다</td>\n",
       "      <td>낡다 오션뷰 너무 좋다 만족하다</td>\n",
       "    </tr>\n",
       "  </tbody>\n",
       "</table>\n",
       "</div>"
      ],
      "text/plain": [
       "          name                                             review  \\\n",
       "0      EQ STAY  구옥 숙소를 엄청 느낌있게 해둔 곳이라, 너무 좋았어요, 바베큐 진짜 꼭드셔야해요 ...   \n",
       "1      EQ STAY  구옥 숙소를 엄청 느낌있게 해둔 곳이라, 너무 좋았어요, 바베큐 진짜 꼭드셔야해요 ...   \n",
       "2  더 클라우드 풀&스파  편하게  잘 지내다가 왔습니다, 특히 모바일 체크인하는 방식이 특이했는데 편했습니다...   \n",
       "3   해비치 호텔&리조트                                           좋아요,,,,,   \n",
       "4       호텔 아로하                            조금 낡았지만 오션뷰 너무 좋고 만족합니다   \n",
       "\n",
       "                                  spell_check_review  \\\n",
       "0                           , , 그런 거 빼고는 다시 갈 의향 있어요   \n",
       "1                                                완전!   \n",
       "2  편하게  잘 지내다가 왔습니다, 특히 모바일 체크인하는 방식이 특이했는데 편했습니다...   \n",
       "3                                           좋아요,,,,,   \n",
       "4                            조금 낡았지만 오션뷰 너무 좋고 만족합니다   \n",
       "\n",
       "                                        review_clean  \n",
       "0                              , , 그렇다 거 빼다 다시 갈다 의향  \n",
       "1                                               완전 !  \n",
       "2  편하다 자다 지내다 오다 , 특히 모바일 체크인하다 방식 특이하다 편하다 .., 바...  \n",
       "3                                           좋다 ,,,,,  \n",
       "4                                  낡다 오션뷰 너무 좋다 만족하다  "
      ]
     },
     "execution_count": 148,
     "metadata": {},
     "output_type": "execute_result"
    }
   ],
   "source": [
    "ya.head()"
   ]
  },
  {
   "cell_type": "code",
   "execution_count": 149,
   "metadata": {},
   "outputs": [
    {
     "name": "stdout",
     "output_type": "stream",
     "text": [
      "<class 'pandas.core.frame.DataFrame'>\n",
      "RangeIndex: 600 entries, 0 to 599\n",
      "Data columns (total 4 columns):\n",
      " #   Column              Non-Null Count  Dtype \n",
      "---  ------              --------------  ----- \n",
      " 0   name                600 non-null    object\n",
      " 1   review              600 non-null    object\n",
      " 2   spell_check_review  600 non-null    object\n",
      " 3   review_clean        598 non-null    object\n",
      "dtypes: object(4)\n",
      "memory usage: 18.9+ KB\n"
     ]
    }
   ],
   "source": [
    "ya.info()"
   ]
  },
  {
   "cell_type": "code",
   "execution_count": 150,
   "metadata": {},
   "outputs": [],
   "source": [
    "ya.to_csv('야놀자 테스트 라벨 데이터.csv',index=False)"
   ]
  },
  {
   "cell_type": "code",
   "execution_count": 151,
   "metadata": {},
   "outputs": [
    {
     "name": "stdout",
     "output_type": "stream",
     "text": [
      "<class 'pandas.core.frame.DataFrame'>\n",
      "RangeIndex: 600 entries, 0 to 599\n",
      "Data columns (total 4 columns):\n",
      " #   Column              Non-Null Count  Dtype \n",
      "---  ------              --------------  ----- \n",
      " 0   name                600 non-null    object\n",
      " 1   review              600 non-null    object\n",
      " 2   spell_check_review  600 non-null    object\n",
      " 3   review_clean        598 non-null    object\n",
      "dtypes: object(4)\n",
      "memory usage: 18.9+ KB\n"
     ]
    }
   ],
   "source": [
    "ya=pd.read_csv('야놀자 테스트 라벨 데이터.csv')\n",
    "ya.info()"
   ]
  },
  {
   "cell_type": "code",
   "execution_count": 152,
   "metadata": {},
   "outputs": [
    {
     "data": {
      "text/html": [
       "<div>\n",
       "<style scoped>\n",
       "    .dataframe tbody tr th:only-of-type {\n",
       "        vertical-align: middle;\n",
       "    }\n",
       "\n",
       "    .dataframe tbody tr th {\n",
       "        vertical-align: top;\n",
       "    }\n",
       "\n",
       "    .dataframe thead th {\n",
       "        text-align: right;\n",
       "    }\n",
       "</style>\n",
       "<table border=\"1\" class=\"dataframe\">\n",
       "  <thead>\n",
       "    <tr style=\"text-align: right;\">\n",
       "      <th></th>\n",
       "      <th>name</th>\n",
       "      <th>review</th>\n",
       "      <th>spell_check_review</th>\n",
       "      <th>review_clean</th>\n",
       "      <th>label</th>\n",
       "    </tr>\n",
       "  </thead>\n",
       "  <tbody>\n",
       "    <tr>\n",
       "      <th>0</th>\n",
       "      <td>EQ STAY</td>\n",
       "      <td>구옥 숙소를 엄청 느낌있게 해둔 곳이라, 너무 좋았어요, 바베큐 진짜 꼭드셔야해요 ...</td>\n",
       "      <td>, , 그런 거 빼고는 다시 갈 의향 있어요</td>\n",
       "      <td>, , 그렇다 거 빼다 다시 갈다 의향</td>\n",
       "      <td></td>\n",
       "    </tr>\n",
       "    <tr>\n",
       "      <th>1</th>\n",
       "      <td>EQ STAY</td>\n",
       "      <td>구옥 숙소를 엄청 느낌있게 해둔 곳이라, 너무 좋았어요, 바베큐 진짜 꼭드셔야해요 ...</td>\n",
       "      <td>완전!</td>\n",
       "      <td>완전 !</td>\n",
       "      <td></td>\n",
       "    </tr>\n",
       "    <tr>\n",
       "      <th>2</th>\n",
       "      <td>더 클라우드 풀&amp;스파</td>\n",
       "      <td>편하게  잘 지내다가 왔습니다, 특히 모바일 체크인하는 방식이 특이했는데 편했습니다...</td>\n",
       "      <td>편하게  잘 지내다가 왔습니다, 특히 모바일 체크인하는 방식이 특이했는데 편했습니다...</td>\n",
       "      <td>편하다 자다 지내다 오다 , 특히 모바일 체크인하다 방식 특이하다 편하다 .., 바...</td>\n",
       "      <td></td>\n",
       "    </tr>\n",
       "    <tr>\n",
       "      <th>3</th>\n",
       "      <td>해비치 호텔&amp;리조트</td>\n",
       "      <td>좋아요,,,,,</td>\n",
       "      <td>좋아요,,,,,</td>\n",
       "      <td>좋다 ,,,,,</td>\n",
       "      <td></td>\n",
       "    </tr>\n",
       "    <tr>\n",
       "      <th>4</th>\n",
       "      <td>호텔 아로하</td>\n",
       "      <td>조금 낡았지만 오션뷰 너무 좋고 만족합니다</td>\n",
       "      <td>조금 낡았지만 오션뷰 너무 좋고 만족합니다</td>\n",
       "      <td>낡다 오션뷰 너무 좋다 만족하다</td>\n",
       "      <td></td>\n",
       "    </tr>\n",
       "  </tbody>\n",
       "</table>\n",
       "</div>"
      ],
      "text/plain": [
       "          name                                             review  \\\n",
       "0      EQ STAY  구옥 숙소를 엄청 느낌있게 해둔 곳이라, 너무 좋았어요, 바베큐 진짜 꼭드셔야해요 ...   \n",
       "1      EQ STAY  구옥 숙소를 엄청 느낌있게 해둔 곳이라, 너무 좋았어요, 바베큐 진짜 꼭드셔야해요 ...   \n",
       "2  더 클라우드 풀&스파  편하게  잘 지내다가 왔습니다, 특히 모바일 체크인하는 방식이 특이했는데 편했습니다...   \n",
       "3   해비치 호텔&리조트                                           좋아요,,,,,   \n",
       "4       호텔 아로하                            조금 낡았지만 오션뷰 너무 좋고 만족합니다   \n",
       "\n",
       "                                  spell_check_review  \\\n",
       "0                           , , 그런 거 빼고는 다시 갈 의향 있어요   \n",
       "1                                                완전!   \n",
       "2  편하게  잘 지내다가 왔습니다, 특히 모바일 체크인하는 방식이 특이했는데 편했습니다...   \n",
       "3                                           좋아요,,,,,   \n",
       "4                            조금 낡았지만 오션뷰 너무 좋고 만족합니다   \n",
       "\n",
       "                                        review_clean label  \n",
       "0                              , , 그렇다 거 빼다 다시 갈다 의향        \n",
       "1                                               완전 !        \n",
       "2  편하다 자다 지내다 오다 , 특히 모바일 체크인하다 방식 특이하다 편하다 .., 바...        \n",
       "3                                           좋다 ,,,,,        \n",
       "4                                  낡다 오션뷰 너무 좋다 만족하다        "
      ]
     },
     "execution_count": 152,
     "metadata": {},
     "output_type": "execute_result"
    }
   ],
   "source": [
    "ya['label']=''\n",
    "ya.head()"
   ]
  },
  {
   "cell_type": "code",
   "execution_count": 153,
   "metadata": {},
   "outputs": [],
   "source": [
    "ya=ya.dropna()\n",
    "ya=ya.reset_index(drop=True)"
   ]
  },
  {
   "cell_type": "code",
   "execution_count": 154,
   "metadata": {},
   "outputs": [
    {
     "name": "stdout",
     "output_type": "stream",
     "text": [
      "<class 'pandas.core.frame.DataFrame'>\n",
      "RangeIndex: 598 entries, 0 to 597\n",
      "Data columns (total 5 columns):\n",
      " #   Column              Non-Null Count  Dtype \n",
      "---  ------              --------------  ----- \n",
      " 0   name                598 non-null    object\n",
      " 1   review              598 non-null    object\n",
      " 2   spell_check_review  598 non-null    object\n",
      " 3   review_clean        598 non-null    object\n",
      " 4   label               598 non-null    object\n",
      "dtypes: object(5)\n",
      "memory usage: 23.5+ KB\n"
     ]
    }
   ],
   "source": [
    "ya.info()"
   ]
  },
  {
   "attachments": {},
   "cell_type": "markdown",
   "metadata": {},
   "source": [
    "## Multi-Aspect Labeling"
   ]
  },
  {
   "cell_type": "code",
   "execution_count": 155,
   "metadata": {},
   "outputs": [],
   "source": [
    "for i in range(len(ya)):\n",
    "    label=[]\n",
    "    s=ya['review_clean'][i]\n",
    "    s=s.split(' ')\n",
    "    s_filtered = [word for word in s if word]\n",
    "\n",
    "    if any(word in s_filtered for word in room):\n",
    "        label.append('룸')\n",
    "    if any(word in s_filtered for word in price):\n",
    "        label.append('가성비')\n",
    "    if any(word in s_filtered for word in place):\n",
    "        label.append('위치')\n",
    "    if any(word in s_filtered for word in service):\n",
    "        label.append('서비스')\n",
    "    if any(word in s_filtered for word in purpose):\n",
    "        label.append('목적')\n",
    "    if any(word in s_filtered for word in bu):\n",
    "        label.append('부대시설')\n",
    "    if any(word in s_filtered for word in etc):\n",
    "        label.append('기타')\n",
    "    \n",
    "    label=','.join(label)\n",
    "    ya['label'][i]=label\n",
    "    "
   ]
  },
  {
   "cell_type": "code",
   "execution_count": 156,
   "metadata": {},
   "outputs": [
    {
     "data": {
      "text/html": [
       "<div>\n",
       "<style scoped>\n",
       "    .dataframe tbody tr th:only-of-type {\n",
       "        vertical-align: middle;\n",
       "    }\n",
       "\n",
       "    .dataframe tbody tr th {\n",
       "        vertical-align: top;\n",
       "    }\n",
       "\n",
       "    .dataframe thead th {\n",
       "        text-align: right;\n",
       "    }\n",
       "</style>\n",
       "<table border=\"1\" class=\"dataframe\">\n",
       "  <thead>\n",
       "    <tr style=\"text-align: right;\">\n",
       "      <th></th>\n",
       "      <th>name</th>\n",
       "      <th>review</th>\n",
       "      <th>spell_check_review</th>\n",
       "      <th>review_clean</th>\n",
       "      <th>label</th>\n",
       "    </tr>\n",
       "  </thead>\n",
       "  <tbody>\n",
       "    <tr>\n",
       "      <th>0</th>\n",
       "      <td>EQ STAY</td>\n",
       "      <td>구옥 숙소를 엄청 느낌있게 해둔 곳이라, 너무 좋았어요, 바베큐 진짜 꼭드셔야해요 ...</td>\n",
       "      <td>, , 그런 거 빼고는 다시 갈 의향 있어요</td>\n",
       "      <td>, , 그렇다 거 빼다 다시 갈다 의향</td>\n",
       "      <td>목적</td>\n",
       "    </tr>\n",
       "    <tr>\n",
       "      <th>1</th>\n",
       "      <td>EQ STAY</td>\n",
       "      <td>구옥 숙소를 엄청 느낌있게 해둔 곳이라, 너무 좋았어요, 바베큐 진짜 꼭드셔야해요 ...</td>\n",
       "      <td>완전!</td>\n",
       "      <td>완전 !</td>\n",
       "      <td>룸</td>\n",
       "    </tr>\n",
       "    <tr>\n",
       "      <th>2</th>\n",
       "      <td>더 클라우드 풀&amp;스파</td>\n",
       "      <td>편하게  잘 지내다가 왔습니다, 특히 모바일 체크인하는 방식이 특이했는데 편했습니다...</td>\n",
       "      <td>편하게  잘 지내다가 왔습니다, 특히 모바일 체크인하는 방식이 특이했는데 편했습니다...</td>\n",
       "      <td>편하다 자다 지내다 오다 , 특히 모바일 체크인하다 방식 특이하다 편하다 .., 바...</td>\n",
       "      <td>룸,위치,기타</td>\n",
       "    </tr>\n",
       "    <tr>\n",
       "      <th>3</th>\n",
       "      <td>해비치 호텔&amp;리조트</td>\n",
       "      <td>좋아요,,,,,</td>\n",
       "      <td>좋아요,,,,,</td>\n",
       "      <td>좋다 ,,,,,</td>\n",
       "      <td></td>\n",
       "    </tr>\n",
       "    <tr>\n",
       "      <th>4</th>\n",
       "      <td>호텔 아로하</td>\n",
       "      <td>조금 낡았지만 오션뷰 너무 좋고 만족합니다</td>\n",
       "      <td>조금 낡았지만 오션뷰 너무 좋고 만족합니다</td>\n",
       "      <td>낡다 오션뷰 너무 좋다 만족하다</td>\n",
       "      <td>룸</td>\n",
       "    </tr>\n",
       "  </tbody>\n",
       "</table>\n",
       "</div>"
      ],
      "text/plain": [
       "          name                                             review  \\\n",
       "0      EQ STAY  구옥 숙소를 엄청 느낌있게 해둔 곳이라, 너무 좋았어요, 바베큐 진짜 꼭드셔야해요 ...   \n",
       "1      EQ STAY  구옥 숙소를 엄청 느낌있게 해둔 곳이라, 너무 좋았어요, 바베큐 진짜 꼭드셔야해요 ...   \n",
       "2  더 클라우드 풀&스파  편하게  잘 지내다가 왔습니다, 특히 모바일 체크인하는 방식이 특이했는데 편했습니다...   \n",
       "3   해비치 호텔&리조트                                           좋아요,,,,,   \n",
       "4       호텔 아로하                            조금 낡았지만 오션뷰 너무 좋고 만족합니다   \n",
       "\n",
       "                                  spell_check_review  \\\n",
       "0                           , , 그런 거 빼고는 다시 갈 의향 있어요   \n",
       "1                                                완전!   \n",
       "2  편하게  잘 지내다가 왔습니다, 특히 모바일 체크인하는 방식이 특이했는데 편했습니다...   \n",
       "3                                           좋아요,,,,,   \n",
       "4                            조금 낡았지만 오션뷰 너무 좋고 만족합니다   \n",
       "\n",
       "                                        review_clean    label  \n",
       "0                              , , 그렇다 거 빼다 다시 갈다 의향       목적  \n",
       "1                                               완전 !        룸  \n",
       "2  편하다 자다 지내다 오다 , 특히 모바일 체크인하다 방식 특이하다 편하다 .., 바...  룸,위치,기타  \n",
       "3                                           좋다 ,,,,,           \n",
       "4                                  낡다 오션뷰 너무 좋다 만족하다        룸  "
      ]
     },
     "execution_count": 156,
     "metadata": {},
     "output_type": "execute_result"
    }
   ],
   "source": [
    "ya.head()"
   ]
  },
  {
   "cell_type": "code",
   "execution_count": 157,
   "metadata": {},
   "outputs": [],
   "source": [
    "ya.to_excel('야놀자 라벨링 결과.xlsx',index=False)"
   ]
  },
  {
   "cell_type": "code",
   "execution_count": 158,
   "metadata": {},
   "outputs": [
    {
     "data": {
      "text/html": [
       "<div>\n",
       "<style scoped>\n",
       "    .dataframe tbody tr th:only-of-type {\n",
       "        vertical-align: middle;\n",
       "    }\n",
       "\n",
       "    .dataframe tbody tr th {\n",
       "        vertical-align: top;\n",
       "    }\n",
       "\n",
       "    .dataframe thead th {\n",
       "        text-align: right;\n",
       "    }\n",
       "</style>\n",
       "<table border=\"1\" class=\"dataframe\">\n",
       "  <thead>\n",
       "    <tr style=\"text-align: right;\">\n",
       "      <th></th>\n",
       "      <th>review</th>\n",
       "      <th>label</th>\n",
       "    </tr>\n",
       "  </thead>\n",
       "  <tbody>\n",
       "    <tr>\n",
       "      <th>0</th>\n",
       "      <td>\"좋았어요\"</td>\n",
       "      <td></td>\n",
       "    </tr>\n",
       "    <tr>\n",
       "      <th>1</th>\n",
       "      <td>12시까지 이용할 수 있는 펍을 갔더니, 11시 주방마감이라 맥주만 가능하다해서 아...</td>\n",
       "      <td>룸,부대시설</td>\n",
       "    </tr>\n",
       "    <tr>\n",
       "      <th>2</th>\n",
       "      <td>1층에  편의점도 있고 방도 업그레이드 되어서 좋았어요!</td>\n",
       "      <td>룸</td>\n",
       "    </tr>\n",
       "    <tr>\n",
       "      <th>3</th>\n",
       "      <td>3박4일동안 편안하고 조용하게 잘지내다갑니다</td>\n",
       "      <td></td>\n",
       "    </tr>\n",
       "    <tr>\n",
       "      <th>4</th>\n",
       "      <td>5살3살 아이들과 이용했는데 침대하나있고 온돌이라 편했네요애들 침대에서 떨어질일 없...</td>\n",
       "      <td>,</td>\n",
       "    </tr>\n",
       "    <tr>\n",
       "      <th>...</th>\n",
       "      <td>...</td>\n",
       "      <td>...</td>\n",
       "    </tr>\n",
       "    <tr>\n",
       "      <th>360</th>\n",
       "      <td>한적하고 침대 옆 창도 좋았어요 깔끔하고 물도 잘나오고 좋아요!</td>\n",
       "      <td>위치,룸</td>\n",
       "    </tr>\n",
       "    <tr>\n",
       "      <th>361</th>\n",
       "      <td>항상 편안하게 쉬다 갑니다굿굿</td>\n",
       "      <td>목적,룸</td>\n",
       "    </tr>\n",
       "    <tr>\n",
       "      <th>362</th>\n",
       "      <td>혼자 지내기 적합하고, 숙소가 좋기보단 주변 편의시설이 매우 맘에 들었습니다, 가성...</td>\n",
       "      <td>가성비</td>\n",
       "    </tr>\n",
       "    <tr>\n",
       "      <th>363</th>\n",
       "      <td>화장실에 비치된 두루마리 휴지만 있고 거실?에 곽티슈가 없어서 불편했어요, 위치는 ...</td>\n",
       "      <td>룸,가성비,위치,서비스,목적,부대시설</td>\n",
       "    </tr>\n",
       "    <tr>\n",
       "      <th>364</th>\n",
       "      <td>후기에 조식이 별루라고 했는데 저는 좋았어요</td>\n",
       "      <td></td>\n",
       "    </tr>\n",
       "  </tbody>\n",
       "</table>\n",
       "<p>365 rows × 2 columns</p>\n",
       "</div>"
      ],
      "text/plain": [
       "                                                review                 label\n",
       "0                                               \"좋았어요\"                      \n",
       "1    12시까지 이용할 수 있는 펍을 갔더니, 11시 주방마감이라 맥주만 가능하다해서 아...                룸,부대시설\n",
       "2                      1층에  편의점도 있고 방도 업그레이드 되어서 좋았어요!                     룸\n",
       "3                             3박4일동안 편안하고 조용하게 잘지내다갑니다                      \n",
       "4    5살3살 아이들과 이용했는데 침대하나있고 온돌이라 편했네요애들 침대에서 떨어질일 없...                     ,\n",
       "..                                                 ...                   ...\n",
       "360                한적하고 침대 옆 창도 좋았어요 깔끔하고 물도 잘나오고 좋아요!                  위치,룸\n",
       "361                                   항상 편안하게 쉬다 갑니다굿굿                  목적,룸\n",
       "362  혼자 지내기 적합하고, 숙소가 좋기보단 주변 편의시설이 매우 맘에 들었습니다, 가성...                   가성비\n",
       "363  화장실에 비치된 두루마리 휴지만 있고 거실?에 곽티슈가 없어서 불편했어요, 위치는 ...  룸,가성비,위치,서비스,목적,부대시설\n",
       "364                           후기에 조식이 별루라고 했는데 저는 좋았어요                      \n",
       "\n",
       "[365 rows x 2 columns]"
      ]
     },
     "execution_count": 158,
     "metadata": {},
     "output_type": "execute_result"
    }
   ],
   "source": [
    "# 같은 \"review\" 값을 가진 행들의 \"label\"을 합치기\n",
    "new_df = ya.groupby(\"review\")[\"label\"].apply(lambda x: \",\".join(x)).reset_index()\n",
    "\n",
    "# 결과 출력\n",
    "new_df"
   ]
  },
  {
   "cell_type": "code",
   "execution_count": 159,
   "metadata": {},
   "outputs": [],
   "source": [
    "def duplicate(s):\n",
    "    s=s.split(',')\n",
    "    s=list(set(s))\n",
    "    s=[item for item in s if item != '']\n",
    "    s=','.join(s)\n",
    "    return s\n"
   ]
  },
  {
   "cell_type": "code",
   "execution_count": 160,
   "metadata": {},
   "outputs": [],
   "source": [
    "new_df['label']=new_df['label'].apply(duplicate)"
   ]
  },
  {
   "cell_type": "code",
   "execution_count": 161,
   "metadata": {},
   "outputs": [],
   "source": [
    "new_df.to_excel('야놀자 라벨링 리뷰별 결과.xlsx',index=False)"
   ]
  },
  {
   "cell_type": "code",
   "execution_count": 139,
   "metadata": {},
   "outputs": [
    {
     "data": {
      "text/html": [
       "<div>\n",
       "<style scoped>\n",
       "    .dataframe tbody tr th:only-of-type {\n",
       "        vertical-align: middle;\n",
       "    }\n",
       "\n",
       "    .dataframe tbody tr th {\n",
       "        vertical-align: top;\n",
       "    }\n",
       "\n",
       "    .dataframe thead th {\n",
       "        text-align: right;\n",
       "    }\n",
       "</style>\n",
       "<table border=\"1\" class=\"dataframe\">\n",
       "  <thead>\n",
       "    <tr style=\"text-align: right;\">\n",
       "      <th></th>\n",
       "      <th>review</th>\n",
       "      <th>label</th>\n",
       "    </tr>\n",
       "  </thead>\n",
       "  <tbody>\n",
       "    <tr>\n",
       "      <th>0</th>\n",
       "      <td>12시까지 이용할 수 있는 펍을 갔더니, 11시 주방마감이라 맥주만 가능하다해서 아...</td>\n",
       "      <td>룸,부대시설</td>\n",
       "    </tr>\n",
       "    <tr>\n",
       "      <th>1</th>\n",
       "      <td>5살3살 아이들과 이용했는데 침대하나있고 온돌이라 편했네요애들 침대에서 떨어질일 없...</td>\n",
       "      <td></td>\n",
       "    </tr>\n",
       "    <tr>\n",
       "      <th>2</th>\n",
       "      <td>가격대비 괜찮았습니다 하수구냄새만 개선하면 좋을것같네요</td>\n",
       "      <td>가성비,룸</td>\n",
       "    </tr>\n",
       "    <tr>\n",
       "      <th>3</th>\n",
       "      <td>가격대비 너무 조아요</td>\n",
       "      <td>가성비</td>\n",
       "    </tr>\n",
       "    <tr>\n",
       "      <th>4</th>\n",
       "      <td>가격대비.굿</td>\n",
       "      <td>가성비,룸</td>\n",
       "    </tr>\n",
       "  </tbody>\n",
       "</table>\n",
       "</div>"
      ],
      "text/plain": [
       "                                              review   label\n",
       "0  12시까지 이용할 수 있는 펍을 갔더니, 11시 주방마감이라 맥주만 가능하다해서 아...  룸,부대시설\n",
       "1  5살3살 아이들과 이용했는데 침대하나있고 온돌이라 편했네요애들 침대에서 떨어질일 없...        \n",
       "2                     가격대비 괜찮았습니다 하수구냄새만 개선하면 좋을것같네요   가성비,룸\n",
       "3                                        가격대비 너무 조아요     가성비\n",
       "4                                             가격대비.굿   가성비,룸"
      ]
     },
     "execution_count": 139,
     "metadata": {},
     "output_type": "execute_result"
    }
   ],
   "source": [
    "new_df.head()"
   ]
  },
  {
   "cell_type": "code",
   "execution_count": null,
   "metadata": {},
   "outputs": [],
   "source": []
  }
 ],
 "metadata": {
  "kernelspec": {
   "display_name": "preprocess",
   "language": "python",
   "name": "python3"
  },
  "language_info": {
   "codemirror_mode": {
    "name": "ipython",
    "version": 3
   },
   "file_extension": ".py",
   "mimetype": "text/x-python",
   "name": "python",
   "nbconvert_exporter": "python",
   "pygments_lexer": "ipython3",
   "version": "3.10.9"
  },
  "orig_nbformat": 4
 },
 "nbformat": 4,
 "nbformat_minor": 2
}
