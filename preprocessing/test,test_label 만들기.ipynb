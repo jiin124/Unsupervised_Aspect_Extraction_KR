{
 "cells": [
  {
   "cell_type": "code",
   "execution_count": null,
   "metadata": {},
   "outputs": [],
   "source": [
    "import pandas as pd"
   ]
  },
  {
   "cell_type": "code",
   "execution_count": 6,
   "metadata": {},
   "outputs": [],
   "source": [
    "import codecs"
   ]
  },
  {
   "cell_type": "code",
   "execution_count": 7,
   "metadata": {},
   "outputs": [],
   "source": [
    "t=codecs.open(r'C:\\Users\\user\\OneDrive\\바탕화~1-DESKTOP-R00ORLS-348\\NLP\\호텔 리뷰 전처리\\3차 train,test\\test.txt','r','utf-8')\n",
    "t_label=codecs.open(r'C:\\Users\\user\\OneDrive\\바탕화~1-DESKTOP-R00ORLS-348\\NLP\\호텔 리뷰 전처리\\3차 train,test\\test_label.txt','r','utf-8')\n",
    "\n",
    "out1=codecs.open(r'C:\\Users\\user\\OneDrive\\바탕화~1-DESKTOP-R00ORLS-348\\NLP\\호텔 리뷰 전처리\\3차 train,test\\test1.txt','w','utf-8')\n",
    "out2=codecs.open(r'C:\\Users\\user\\OneDrive\\바탕화~1-DESKTOP-R00ORLS-348\\NLP\\호텔 리뷰 전처리\\3차 train,test\\test_label1.txt', 'w', 'utf-8')\n",
    "\n",
    "\n",
    "for text,label in zip(t,t_label):\n",
    "    label=label.strip()\n",
    "    if label not in ['룸','위치','서비스','목적','가성비','부대시설']:\n",
    "        continue\n",
    "    if len(text)>0:#해줘야 test,test_label간의 차이 안나옴\n",
    "        out1.write(text)\n",
    "        out2.write(label+'\\n')\n",
    "    \n"
   ]
  },
  {
   "cell_type": "code",
   "execution_count": 10,
   "metadata": {},
   "outputs": [],
   "source": [
    "t=pd.read_csv(r'C:\\Users\\user\\OneDrive\\바탕화~1-DESKTOP-R00ORLS-348\\NLP\\호텔 리뷰 전처리\\3차 train,test\\test.txt')"
   ]
  },
  {
   "cell_type": "code",
   "execution_count": 11,
   "metadata": {},
   "outputs": [
    {
     "name": "stdout",
     "output_type": "stream",
     "text": [
      "<class 'pandas.core.frame.DataFrame'>\n",
      "RangeIndex: 3013 entries, 0 to 3012\n",
      "Data columns (total 1 columns):\n",
      " #   Column                                         Non-Null Count  Dtype \n",
      "---  ------                                         --------------  ----- \n",
      " 0   아무리 잠 만 자고 오다 출장 여행 동반 숙소 예약 하다 입장 미안하다 마음 들다  3013 non-null   object\n",
      "dtypes: object(1)\n",
      "memory usage: 23.7+ KB\n"
     ]
    }
   ],
   "source": [
    "t.info()"
   ]
  },
  {
   "cell_type": "code",
   "execution_count": null,
   "metadata": {},
   "outputs": [],
   "source": []
  }
 ],
 "metadata": {
  "kernelspec": {
   "display_name": "preprocess",
   "language": "python",
   "name": "python3"
  },
  "language_info": {
   "codemirror_mode": {
    "name": "ipython",
    "version": 3
   },
   "file_extension": ".py",
   "mimetype": "text/x-python",
   "name": "python",
   "nbconvert_exporter": "python",
   "pygments_lexer": "ipython3",
   "version": "3.10.9"
  },
  "orig_nbformat": 4,
  "vscode": {
   "interpreter": {
    "hash": "4636d43c3d2fa73af7729580212486d9934489a8e47ffb36c4f1f7a0fd7332a6"
   }
  }
 },
 "nbformat": 4,
 "nbformat_minor": 2
}
