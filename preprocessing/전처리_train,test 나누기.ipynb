{
 "cells": [
  {
   "cell_type": "code",
   "execution_count": 123,
   "metadata": {},
   "outputs": [],
   "source": [
    "import pandas as pd\n",
    "import numpy as np\n",
    "import re"
   ]
  },
  {
   "attachments": {},
   "cell_type": "markdown",
   "metadata": {},
   "source": [
    "## Preprocessing"
   ]
  },
  {
   "cell_type": "code",
   "execution_count": 25,
   "metadata": {},
   "outputs": [
    {
     "data": {
      "text/html": [
       "<div>\n",
       "<style scoped>\n",
       "    .dataframe tbody tr th:only-of-type {\n",
       "        vertical-align: middle;\n",
       "    }\n",
       "\n",
       "    .dataframe tbody tr th {\n",
       "        vertical-align: top;\n",
       "    }\n",
       "\n",
       "    .dataframe thead th {\n",
       "        text-align: right;\n",
       "    }\n",
       "</style>\n",
       "<table border=\"1\" class=\"dataframe\">\n",
       "  <thead>\n",
       "    <tr style=\"text-align: right;\">\n",
       "      <th></th>\n",
       "      <th>Hotel_name</th>\n",
       "      <th>review</th>\n",
       "      <th>rate</th>\n",
       "    </tr>\n",
       "  </thead>\n",
       "  <tbody>\n",
       "    <tr>\n",
       "      <th>49178</th>\n",
       "      <td>오션 팰리스 호텔</td>\n",
       "      <td>바로 전화해서 방을 산실로 업그레이드해서 바꿔주시긴 했는데...</td>\n",
       "      <td>0</td>\n",
       "    </tr>\n",
       "    <tr>\n",
       "      <th>49659</th>\n",
       "      <td>오션 팰리스 호텔</td>\n",
       "      <td>일주일도 전에 신청한 침대가 드도 체크인할 때 다시 물어보라 해놓고 감감무소식 설치...</td>\n",
       "      <td>2</td>\n",
       "    </tr>\n",
       "    <tr>\n",
       "      <th>6096</th>\n",
       "      <td>글래드 여의도</td>\n",
       "      <td>방 자체는 약간 어두워요.</td>\n",
       "      <td>1</td>\n",
       "    </tr>\n",
       "    <tr>\n",
       "      <th>51749</th>\n",
       "      <td>숨 게스트 하우스 제주공항</td>\n",
       "      <td>눈 내리는 겨울에 다시 방문 예정인데 그때는 이 슬리퍼 바꿔주셨음</td>\n",
       "      <td>1</td>\n",
       "    </tr>\n",
       "    <tr>\n",
       "      <th>46008</th>\n",
       "      <td>엠 스테이 호텔 제주</td>\n",
       "      <td>밖인지 화장실인지 암튼 이것보다 싸게 준대도 다신 안 가고 싶음</td>\n",
       "      <td>0</td>\n",
       "    </tr>\n",
       "  </tbody>\n",
       "</table>\n",
       "</div>"
      ],
      "text/plain": [
       "           Hotel_name                                             review  rate\n",
       "49178       오션 팰리스 호텔                바로 전화해서 방을 산실로 업그레이드해서 바꿔주시긴 했는데...     0\n",
       "49659       오션 팰리스 호텔  일주일도 전에 신청한 침대가 드도 체크인할 때 다시 물어보라 해놓고 감감무소식 설치...     2\n",
       "6096          글래드 여의도                                     방 자체는 약간 어두워요.     1\n",
       "51749  숨 게스트 하우스 제주공항               눈 내리는 겨울에 다시 방문 예정인데 그때는 이 슬리퍼 바꿔주셨음     1\n",
       "46008     엠 스테이 호텔 제주                밖인지 화장실인지 암튼 이것보다 싸게 준대도 다신 안 가고 싶음     0"
      ]
     },
     "execution_count": 25,
     "metadata": {},
     "output_type": "execute_result"
    }
   ],
   "source": [
    "test"
   ]
  },
  {
   "cell_type": "code",
   "execution_count": 129,
   "metadata": {},
   "outputs": [],
   "source": [
    "from konlpy.tag import Okt\n",
    "import numpy\n",
    "import re\n",
    "\n",
    "okt=Okt()\n",
    "\n",
    "#문장에서 한글만 남기고 삭제\n",
    "def cleansing(sentence):\n",
    "    hangul=re.compile('[^가-힣]') \n",
    "    result=hangul.sub(' ',sentence)\n",
    "    return result\n",
    "\n",
    "#문장에서 불용어 제거\n",
    "def remove_stopwords(sentence):\n",
    "    korean_stopwords_list='한국어 불용어.txt'\n",
    "    \n",
    "    #한국어 불용어 txt 오픈\n",
    "    with open(korean_stopwords_list,encoding='utf-8') as f:\n",
    "        stopwords=f.readlines()\n",
    "    stopwords=[x.strip() for x in stopwords]\n",
    "\n",
    "    word_list=okt.morphs(sentence,stem=True)\n",
    "    word_list=[word for word in word_list if word not in stopwords]\n",
    "    return ' '.join(word_list)\n",
    "\n",
    "#형태소 원형\n",
    "def origin(sentence):\n",
    "    word=okt.morphs(sentence,stem=True)\n",
    "    words=' '.join(word)\n",
    "    return words    \n",
    "    \n",
    "#총정리\n",
    "def final_preprocessing(sentence):\n",
    "    sentence=cleansing(sentence)\n",
    "    sentence=remove_stopwords(sentence)\n",
    "    sentence=origin(sentence)\n",
    "    return sentence"
   ]
  },
  {
   "cell_type": "code",
   "execution_count": 33,
   "metadata": {},
   "outputs": [
    {
     "data": {
      "text/html": [
       "<div>\n",
       "<style scoped>\n",
       "    .dataframe tbody tr th:only-of-type {\n",
       "        vertical-align: middle;\n",
       "    }\n",
       "\n",
       "    .dataframe tbody tr th {\n",
       "        vertical-align: top;\n",
       "    }\n",
       "\n",
       "    .dataframe thead th {\n",
       "        text-align: right;\n",
       "    }\n",
       "</style>\n",
       "<table border=\"1\" class=\"dataframe\">\n",
       "  <thead>\n",
       "    <tr style=\"text-align: right;\">\n",
       "      <th></th>\n",
       "      <th>Hotel_name</th>\n",
       "      <th>review</th>\n",
       "      <th>rate</th>\n",
       "      <th>preprocessing_review</th>\n",
       "    </tr>\n",
       "  </thead>\n",
       "  <tbody>\n",
       "    <tr>\n",
       "      <th>49178</th>\n",
       "      <td>오션 팰리스 호텔</td>\n",
       "      <td>바로 전화해서 방을 산실로 업그레이드해서 바꿔주시긴 했는데...</td>\n",
       "      <td>0</td>\n",
       "      <td>전화하다 방 산실 업그레이드 바꾸다</td>\n",
       "    </tr>\n",
       "    <tr>\n",
       "      <th>49659</th>\n",
       "      <td>오션 팰리스 호텔</td>\n",
       "      <td>일주일도 전에 신청한 침대가 드도 체크인할 때 다시 물어보라 해놓고 감감무소식 설치...</td>\n",
       "      <td>2</td>\n",
       "      <td>일주일 전 신청 하다 침대 드 체크 인하다 다시 물어보다 감감 무소식 설치 안되다</td>\n",
       "    </tr>\n",
       "    <tr>\n",
       "      <th>6096</th>\n",
       "      <td>글래드 여의도</td>\n",
       "      <td>방 자체는 약간 어두워요.</td>\n",
       "      <td>1</td>\n",
       "      <td>방 자체 어둡다</td>\n",
       "    </tr>\n",
       "    <tr>\n",
       "      <th>51749</th>\n",
       "      <td>숨 게스트 하우스 제주공항</td>\n",
       "      <td>눈 내리는 겨울에 다시 방문 예정인데 그때는 이 슬리퍼 바꿔주셨음</td>\n",
       "      <td>1</td>\n",
       "      <td>눈 내 리다 겨울 다시 방문 예정 인데 슬리퍼 바꾸다</td>\n",
       "    </tr>\n",
       "    <tr>\n",
       "      <th>46008</th>\n",
       "      <td>엠 스테이 호텔 제주</td>\n",
       "      <td>밖인지 화장실인지 암튼 이것보다 싸게 준대도 다신 안 가고 싶음</td>\n",
       "      <td>0</td>\n",
       "      <td>밖 인지 화장실 인지 암튼 보다 싸다 준 대도 다시다 가다 싶다</td>\n",
       "    </tr>\n",
       "  </tbody>\n",
       "</table>\n",
       "</div>"
      ],
      "text/plain": [
       "           Hotel_name                                             review  \\\n",
       "49178       오션 팰리스 호텔                바로 전화해서 방을 산실로 업그레이드해서 바꿔주시긴 했는데...   \n",
       "49659       오션 팰리스 호텔  일주일도 전에 신청한 침대가 드도 체크인할 때 다시 물어보라 해놓고 감감무소식 설치...   \n",
       "6096          글래드 여의도                                     방 자체는 약간 어두워요.   \n",
       "51749  숨 게스트 하우스 제주공항               눈 내리는 겨울에 다시 방문 예정인데 그때는 이 슬리퍼 바꿔주셨음   \n",
       "46008     엠 스테이 호텔 제주                밖인지 화장실인지 암튼 이것보다 싸게 준대도 다신 안 가고 싶음   \n",
       "\n",
       "       rate                           preprocessing_review  \n",
       "49178     0                            전화하다 방 산실 업그레이드 바꾸다  \n",
       "49659     2  일주일 전 신청 하다 침대 드 체크 인하다 다시 물어보다 감감 무소식 설치 안되다  \n",
       "6096      1                                       방 자체 어둡다  \n",
       "51749     1                  눈 내 리다 겨울 다시 방문 예정 인데 슬리퍼 바꾸다  \n",
       "46008     0            밖 인지 화장실 인지 암튼 보다 싸다 준 대도 다시다 가다 싶다  "
      ]
     },
     "execution_count": 33,
     "metadata": {},
     "output_type": "execute_result"
    }
   ],
   "source": [
    "test['preprocessing_review']=test['review'].apply(final_preprocessing)\n",
    "test"
   ]
  },
  {
   "attachments": {},
   "cell_type": "markdown",
   "metadata": {},
   "source": [
    "## 진짜 전처리"
   ]
  },
  {
   "cell_type": "code",
   "execution_count": null,
   "metadata": {},
   "outputs": [],
   "source": [
    "df=pd.read_csv('실제 리뷰 데이터.csv')\n",
    "data=pd.read_csv('실제 리뷰 데이터1.csv')"
   ]
  },
  {
   "cell_type": "code",
   "execution_count": null,
   "metadata": {},
   "outputs": [],
   "source": [
    "df['preprocessing_review']=df['review'].apply(final_preprocessing)\n",
    "df.to_csv('review_clean_preprocessing.csv',index=False)\n"
   ]
  },
  {
   "cell_type": "code",
   "execution_count": 134,
   "metadata": {},
   "outputs": [
    {
     "data": {
      "text/html": [
       "<div>\n",
       "<style scoped>\n",
       "    .dataframe tbody tr th:only-of-type {\n",
       "        vertical-align: middle;\n",
       "    }\n",
       "\n",
       "    .dataframe tbody tr th {\n",
       "        vertical-align: top;\n",
       "    }\n",
       "\n",
       "    .dataframe thead th {\n",
       "        text-align: right;\n",
       "    }\n",
       "</style>\n",
       "<table border=\"1\" class=\"dataframe\">\n",
       "  <thead>\n",
       "    <tr style=\"text-align: right;\">\n",
       "      <th></th>\n",
       "      <th>Hotel</th>\n",
       "      <th>LABEL-11</th>\n",
       "      <th>preprocessing_review</th>\n",
       "    </tr>\n",
       "  </thead>\n",
       "  <tbody>\n",
       "    <tr>\n",
       "      <th>0</th>\n",
       "      <td>골든 서울 호텔</td>\n",
       "      <td>먼지,진드기 알레르기 있는데 다른 호텔 이불을 쓰면 몸이 간지럽던데 골든서울호텔은 ...</td>\n",
       "      <td>먼지 진드기 알레르기 호텔 이불 쓰다 몸 간지럽다 골든 서울 호텔 그렇다 건 없다 ...</td>\n",
       "    </tr>\n",
       "    <tr>\n",
       "      <th>1</th>\n",
       "      <td>골든 서울 호텔</td>\n",
       "      <td>개인 메시지창 확인 해 주세요.</td>\n",
       "      <td>개인 메시지 창 확인 해 주다</td>\n",
       "    </tr>\n",
       "    <tr>\n",
       "      <th>2</th>\n",
       "      <td>골든 서울 호텔</td>\n",
       "      <td>답변주시기 바랍니다.</td>\n",
       "      <td>답변 주 시기 바라다</td>\n",
       "    </tr>\n",
       "    <tr>\n",
       "      <th>3</th>\n",
       "      <td>골든 서울 호텔</td>\n",
       "      <td>가장중요한 청결상태도 아주 깨끗하며 직원분들도 친절하시고 전철역도 가깝고 주변 편의...</td>\n",
       "      <td>가장 중요하다 청결 상태 아주 깨끗하다 직원 분들 친절하다 전철역 가깝다 주변 편의...</td>\n",
       "    </tr>\n",
       "    <tr>\n",
       "      <th>4</th>\n",
       "      <td>골든 서울 호텔</td>\n",
       "      <td>일주일에 한번 서울을 오는데 자주 묵게될 것 같네요. 매트리스가 좋습니다.</td>\n",
       "      <td>일주일 한번 서울 오다 자주 묵다 되다 매트리스 좋다</td>\n",
       "    </tr>\n",
       "  </tbody>\n",
       "</table>\n",
       "</div>"
      ],
      "text/plain": [
       "      Hotel                                           LABEL-11  \\\n",
       "0  골든 서울 호텔  먼지,진드기 알레르기 있는데 다른 호텔 이불을 쓰면 몸이 간지럽던데 골든서울호텔은 ...   \n",
       "1  골든 서울 호텔                                  개인 메시지창 확인 해 주세요.   \n",
       "2  골든 서울 호텔                                        답변주시기 바랍니다.   \n",
       "3  골든 서울 호텔  가장중요한 청결상태도 아주 깨끗하며 직원분들도 친절하시고 전철역도 가깝고 주변 편의...   \n",
       "4  골든 서울 호텔          일주일에 한번 서울을 오는데 자주 묵게될 것 같네요. 매트리스가 좋습니다.   \n",
       "\n",
       "                                preprocessing_review  \n",
       "0  먼지 진드기 알레르기 호텔 이불 쓰다 몸 간지럽다 골든 서울 호텔 그렇다 건 없다 ...  \n",
       "1                                   개인 메시지 창 확인 해 주다  \n",
       "2                                        답변 주 시기 바라다  \n",
       "3  가장 중요하다 청결 상태 아주 깨끗하다 직원 분들 친절하다 전철역 가깝다 주변 편의...  \n",
       "4                      일주일 한번 서울 오다 자주 묵다 되다 매트리스 좋다  "
      ]
     },
     "execution_count": 134,
     "metadata": {},
     "output_type": "execute_result"
    }
   ],
   "source": [
    "data['preprocessing_review']=data['LABEL-11'].apply(final_preprocessing)\n",
    "data.head()"
   ]
  },
  {
   "cell_type": "code",
   "execution_count": 135,
   "metadata": {},
   "outputs": [
    {
     "data": {
      "text/html": [
       "<div>\n",
       "<style scoped>\n",
       "    .dataframe tbody tr th:only-of-type {\n",
       "        vertical-align: middle;\n",
       "    }\n",
       "\n",
       "    .dataframe tbody tr th {\n",
       "        vertical-align: top;\n",
       "    }\n",
       "\n",
       "    .dataframe thead th {\n",
       "        text-align: right;\n",
       "    }\n",
       "</style>\n",
       "<table border=\"1\" class=\"dataframe\">\n",
       "  <thead>\n",
       "    <tr style=\"text-align: right;\">\n",
       "      <th></th>\n",
       "      <th>Hotel</th>\n",
       "      <th>preprocessing_review</th>\n",
       "    </tr>\n",
       "  </thead>\n",
       "  <tbody>\n",
       "    <tr>\n",
       "      <th>0</th>\n",
       "      <td>골든 서울 호텔</td>\n",
       "      <td>먼지 진드기 알레르기 호텔 이불 쓰다 몸 간지럽다 골든 서울 호텔 그렇다 건 없다 ...</td>\n",
       "    </tr>\n",
       "    <tr>\n",
       "      <th>1</th>\n",
       "      <td>골든 서울 호텔</td>\n",
       "      <td>개인 메시지 창 확인 해 주다</td>\n",
       "    </tr>\n",
       "    <tr>\n",
       "      <th>2</th>\n",
       "      <td>골든 서울 호텔</td>\n",
       "      <td>답변 주 시기 바라다</td>\n",
       "    </tr>\n",
       "    <tr>\n",
       "      <th>3</th>\n",
       "      <td>골든 서울 호텔</td>\n",
       "      <td>가장 중요하다 청결 상태 아주 깨끗하다 직원 분들 친절하다 전철역 가깝다 주변 편의...</td>\n",
       "    </tr>\n",
       "    <tr>\n",
       "      <th>4</th>\n",
       "      <td>골든 서울 호텔</td>\n",
       "      <td>일주일 한번 서울 오다 자주 묵다 되다 매트리스 좋다</td>\n",
       "    </tr>\n",
       "  </tbody>\n",
       "</table>\n",
       "</div>"
      ],
      "text/plain": [
       "      Hotel                               preprocessing_review\n",
       "0  골든 서울 호텔  먼지 진드기 알레르기 호텔 이불 쓰다 몸 간지럽다 골든 서울 호텔 그렇다 건 없다 ...\n",
       "1  골든 서울 호텔                                   개인 메시지 창 확인 해 주다\n",
       "2  골든 서울 호텔                                        답변 주 시기 바라다\n",
       "3  골든 서울 호텔  가장 중요하다 청결 상태 아주 깨끗하다 직원 분들 친절하다 전철역 가깝다 주변 편의...\n",
       "4  골든 서울 호텔                      일주일 한번 서울 오다 자주 묵다 되다 매트리스 좋다"
      ]
     },
     "execution_count": 135,
     "metadata": {},
     "output_type": "execute_result"
    }
   ],
   "source": [
    "data=data.drop('LABEL-11',axis=1)\n",
    "data.head()"
   ]
  },
  {
   "cell_type": "code",
   "execution_count": 136,
   "metadata": {},
   "outputs": [],
   "source": [
    "data.to_csv('골든 서울 호텔_전처리.csv',index=False)"
   ]
  },
  {
   "cell_type": "code",
   "execution_count": 137,
   "metadata": {},
   "outputs": [],
   "source": [
    "data.to_excel('골든 서울 호텔_전처리.xlsx',index=False)"
   ]
  },
  {
   "cell_type": "code",
   "execution_count": 36,
   "metadata": {},
   "outputs": [],
   "source": [
    "df.to_excel('review_clean_preprocessing.xlsx',index=False)"
   ]
  },
  {
   "cell_type": "code",
   "execution_count": 37,
   "metadata": {},
   "outputs": [
    {
     "data": {
      "text/html": [
       "<div>\n",
       "<style scoped>\n",
       "    .dataframe tbody tr th:only-of-type {\n",
       "        vertical-align: middle;\n",
       "    }\n",
       "\n",
       "    .dataframe tbody tr th {\n",
       "        vertical-align: top;\n",
       "    }\n",
       "\n",
       "    .dataframe thead th {\n",
       "        text-align: right;\n",
       "    }\n",
       "</style>\n",
       "<table border=\"1\" class=\"dataframe\">\n",
       "  <thead>\n",
       "    <tr style=\"text-align: right;\">\n",
       "      <th></th>\n",
       "      <th>Hotel_name</th>\n",
       "      <th>rate</th>\n",
       "      <th>preprocessing_review</th>\n",
       "    </tr>\n",
       "  </thead>\n",
       "  <tbody>\n",
       "    <tr>\n",
       "      <th>0</th>\n",
       "      <td>서울 가든 호텔</td>\n",
       "      <td>1</td>\n",
       "      <td>건물 오래되다 보이 내부 깔끔하다 좋다</td>\n",
       "    </tr>\n",
       "    <tr>\n",
       "      <th>1</th>\n",
       "      <td>서울 가든 호텔</td>\n",
       "      <td>1</td>\n",
       "      <td>직원 분들 친절하다 좋다</td>\n",
       "    </tr>\n",
       "    <tr>\n",
       "      <th>2</th>\n",
       "      <td>서울 가든 호텔</td>\n",
       "      <td>1</td>\n",
       "      <td>위치 말 없이 좋다 주변 맛 집도 꽤 그것 좋다</td>\n",
       "    </tr>\n",
       "    <tr>\n",
       "      <th>3</th>\n",
       "      <td>서울 가든 호텔</td>\n",
       "      <td>1</td>\n",
       "      <td>교통 편리하다 출장 이용 좋다 가성 비 좋다 도심 호텔</td>\n",
       "    </tr>\n",
       "    <tr>\n",
       "      <th>4</th>\n",
       "      <td>서울 가든 호텔</td>\n",
       "      <td>1</td>\n",
       "      <td>교통 마포역 아주 가깝다 걸다 분 좋다</td>\n",
       "    </tr>\n",
       "  </tbody>\n",
       "</table>\n",
       "</div>"
      ],
      "text/plain": [
       "  Hotel_name  rate            preprocessing_review\n",
       "0   서울 가든 호텔     1           건물 오래되다 보이 내부 깔끔하다 좋다\n",
       "1   서울 가든 호텔     1                   직원 분들 친절하다 좋다\n",
       "2   서울 가든 호텔     1      위치 말 없이 좋다 주변 맛 집도 꽤 그것 좋다\n",
       "3   서울 가든 호텔     1  교통 편리하다 출장 이용 좋다 가성 비 좋다 도심 호텔\n",
       "4   서울 가든 호텔     1           교통 마포역 아주 가깝다 걸다 분 좋다"
      ]
     },
     "execution_count": 37,
     "metadata": {},
     "output_type": "execute_result"
    }
   ],
   "source": [
    "df1=df.drop('review',axis=1)\n",
    "df1.head()"
   ]
  },
  {
   "cell_type": "code",
   "execution_count": 38,
   "metadata": {},
   "outputs": [],
   "source": [
    "df1.to_csv('review_clean_preprocessing.csv',index=False)\n"
   ]
  },
  {
   "cell_type": "code",
   "execution_count": 39,
   "metadata": {},
   "outputs": [],
   "source": [
    "df1.to_excel('review_clean_preprocessing.xlsx',index=False)"
   ]
  },
  {
   "cell_type": "code",
   "execution_count": 40,
   "metadata": {},
   "outputs": [
    {
     "data": {
      "text/html": [
       "<div>\n",
       "<style scoped>\n",
       "    .dataframe tbody tr th:only-of-type {\n",
       "        vertical-align: middle;\n",
       "    }\n",
       "\n",
       "    .dataframe tbody tr th {\n",
       "        vertical-align: top;\n",
       "    }\n",
       "\n",
       "    .dataframe thead th {\n",
       "        text-align: right;\n",
       "    }\n",
       "</style>\n",
       "<table border=\"1\" class=\"dataframe\">\n",
       "  <thead>\n",
       "    <tr style=\"text-align: right;\">\n",
       "      <th></th>\n",
       "      <th>Hotel_name</th>\n",
       "      <th>rate</th>\n",
       "      <th>preprocessing_review</th>\n",
       "    </tr>\n",
       "  </thead>\n",
       "  <tbody>\n",
       "    <tr>\n",
       "      <th>0</th>\n",
       "      <td>서울 가든 호텔</td>\n",
       "      <td>1</td>\n",
       "      <td>건물 오래되다 보이 내부 깔끔하다 좋다</td>\n",
       "    </tr>\n",
       "    <tr>\n",
       "      <th>1</th>\n",
       "      <td>서울 가든 호텔</td>\n",
       "      <td>1</td>\n",
       "      <td>직원 분들 친절하다 좋다</td>\n",
       "    </tr>\n",
       "    <tr>\n",
       "      <th>2</th>\n",
       "      <td>서울 가든 호텔</td>\n",
       "      <td>1</td>\n",
       "      <td>위치 말 없이 좋다 주변 맛 집도 꽤 그것 좋다</td>\n",
       "    </tr>\n",
       "    <tr>\n",
       "      <th>3</th>\n",
       "      <td>서울 가든 호텔</td>\n",
       "      <td>1</td>\n",
       "      <td>교통 편리하다 출장 이용 좋다 가성 비 좋다 도심 호텔</td>\n",
       "    </tr>\n",
       "    <tr>\n",
       "      <th>4</th>\n",
       "      <td>서울 가든 호텔</td>\n",
       "      <td>1</td>\n",
       "      <td>교통 마포역 아주 가깝다 걸다 분 좋다</td>\n",
       "    </tr>\n",
       "  </tbody>\n",
       "</table>\n",
       "</div>"
      ],
      "text/plain": [
       "  Hotel_name  rate            preprocessing_review\n",
       "0   서울 가든 호텔     1           건물 오래되다 보이 내부 깔끔하다 좋다\n",
       "1   서울 가든 호텔     1                   직원 분들 친절하다 좋다\n",
       "2   서울 가든 호텔     1      위치 말 없이 좋다 주변 맛 집도 꽤 그것 좋다\n",
       "3   서울 가든 호텔     1  교통 편리하다 출장 이용 좋다 가성 비 좋다 도심 호텔\n",
       "4   서울 가든 호텔     1           교통 마포역 아주 가깝다 걸다 분 좋다"
      ]
     },
     "execution_count": 40,
     "metadata": {},
     "output_type": "execute_result"
    }
   ],
   "source": [
    "df1.head()"
   ]
  },
  {
   "attachments": {},
   "cell_type": "markdown",
   "metadata": {},
   "source": [
    "## 세부 전처리"
   ]
  },
  {
   "cell_type": "code",
   "execution_count": 44,
   "metadata": {},
   "outputs": [
    {
     "data": {
      "text/html": [
       "<div>\n",
       "<style scoped>\n",
       "    .dataframe tbody tr th:only-of-type {\n",
       "        vertical-align: middle;\n",
       "    }\n",
       "\n",
       "    .dataframe tbody tr th {\n",
       "        vertical-align: top;\n",
       "    }\n",
       "\n",
       "    .dataframe thead th {\n",
       "        text-align: right;\n",
       "    }\n",
       "</style>\n",
       "<table border=\"1\" class=\"dataframe\">\n",
       "  <thead>\n",
       "    <tr style=\"text-align: right;\">\n",
       "      <th></th>\n",
       "      <th>Hotel_name</th>\n",
       "      <th>rate</th>\n",
       "      <th>preprocessing_review</th>\n",
       "    </tr>\n",
       "  </thead>\n",
       "  <tbody>\n",
       "    <tr>\n",
       "      <th>0</th>\n",
       "      <td>서울 가든 호텔</td>\n",
       "      <td>1</td>\n",
       "      <td>건물 오래되다 보이 내부 깔끔하다 좋다</td>\n",
       "    </tr>\n",
       "    <tr>\n",
       "      <th>1</th>\n",
       "      <td>서울 가든 호텔</td>\n",
       "      <td>1</td>\n",
       "      <td>직원 분들 친절하다 좋다</td>\n",
       "    </tr>\n",
       "    <tr>\n",
       "      <th>2</th>\n",
       "      <td>서울 가든 호텔</td>\n",
       "      <td>1</td>\n",
       "      <td>위치 말 없이 좋다 주변 맛집 꽤 그것 좋다</td>\n",
       "    </tr>\n",
       "    <tr>\n",
       "      <th>3</th>\n",
       "      <td>서울 가든 호텔</td>\n",
       "      <td>1</td>\n",
       "      <td>교통 편리하다 출장 이용 좋다 가성비 좋다 도심 호텔</td>\n",
       "    </tr>\n",
       "    <tr>\n",
       "      <th>4</th>\n",
       "      <td>서울 가든 호텔</td>\n",
       "      <td>1</td>\n",
       "      <td>교통 마포역 아주 가깝다 걸다 분 좋다</td>\n",
       "    </tr>\n",
       "  </tbody>\n",
       "</table>\n",
       "</div>"
      ],
      "text/plain": [
       "  Hotel_name  rate           preprocessing_review\n",
       "0   서울 가든 호텔     1          건물 오래되다 보이 내부 깔끔하다 좋다\n",
       "1   서울 가든 호텔     1                  직원 분들 친절하다 좋다\n",
       "2   서울 가든 호텔     1       위치 말 없이 좋다 주변 맛집 꽤 그것 좋다\n",
       "3   서울 가든 호텔     1  교통 편리하다 출장 이용 좋다 가성비 좋다 도심 호텔\n",
       "4   서울 가든 호텔     1          교통 마포역 아주 가깝다 걸다 분 좋다"
      ]
     },
     "execution_count": 44,
     "metadata": {},
     "output_type": "execute_result"
    }
   ],
   "source": [
    "data=pd.read_excel('review_clean_preprocessing.xlsx')\n",
    "data.head()"
   ]
  },
  {
   "cell_type": "code",
   "execution_count": 45,
   "metadata": {},
   "outputs": [
    {
     "name": "stdout",
     "output_type": "stream",
     "text": [
      "<class 'pandas.core.frame.DataFrame'>\n",
      "RangeIndex: 57203 entries, 0 to 57202\n",
      "Data columns (total 3 columns):\n",
      " #   Column                Non-Null Count  Dtype \n",
      "---  ------                --------------  ----- \n",
      " 0   Hotel_name            57202 non-null  object\n",
      " 1   rate                  57203 non-null  int64 \n",
      " 2   preprocessing_review  56958 non-null  object\n",
      "dtypes: int64(1), object(2)\n",
      "memory usage: 1.3+ MB\n"
     ]
    }
   ],
   "source": [
    "data.info()"
   ]
  },
  {
   "cell_type": "code",
   "execution_count": 47,
   "metadata": {},
   "outputs": [],
   "source": [
    "data=data.dropna(axis=0)"
   ]
  },
  {
   "cell_type": "code",
   "execution_count": 50,
   "metadata": {},
   "outputs": [],
   "source": [
    "data.to_excel('review_clean_preprocessing.xlsx',index=False)"
   ]
  },
  {
   "attachments": {},
   "cell_type": "markdown",
   "metadata": {},
   "source": [
    "## train,test 데이터 나누기"
   ]
  },
  {
   "cell_type": "code",
   "execution_count": 69,
   "metadata": {},
   "outputs": [
    {
     "name": "stdout",
     "output_type": "stream",
     "text": [
      "(55931, 3)\n",
      "(1026, 3)\n"
     ]
    }
   ],
   "source": [
    "from sklearn.model_selection import train_test_split\n",
    "\n",
    "review_train, review_test=train_test_split(data,test_size=0.018,shuffle=True,random_state=0)\n",
    "print(review_train.shape)\n",
    "print(review_test.shape)"
   ]
  },
  {
   "cell_type": "code",
   "execution_count": 72,
   "metadata": {},
   "outputs": [],
   "source": [
    "review_train.to_csv('train_호텔이름.csv',index=False)\n",
    "review_test.to_csv('test_호텔이름.csv',index=False)"
   ]
  },
  {
   "cell_type": "code",
   "execution_count": 73,
   "metadata": {},
   "outputs": [
    {
     "data": {
      "text/plain": [
       "38421         오래되다 작은방 한강 보이다 광고 문구 만 보고 예약 주변 높다 빌딩 가로막 고\n",
       "11796    근처 편의점 외국인 많다 듯 조식 샌드위치 신청 보증금 천원 먹다 돌려주다 달 고 ...\n",
       "18611                                              예약 빡세 요\n",
       "40659                                                   무난\n",
       "12118                               신축 모텔 형 룸 인데 아담하다 깨끗하다\n",
       "                               ...                        \n",
       "46083    방음 안되다 건 둘째 치고 옆방 남자 밤새 술 먹다 리셉션 말 해 주 십 사하구 전...\n",
       "52642                                          룸 컨디션 보고 감동\n",
       "42792                                    부분 아쉽다 객실 깨끗하다 좋다\n",
       "43750           엘리베이터 바닥 깨지다 덮다 위해 고무 패드 깔다 울퉁불퉁 지하 주차장 개판\n",
       "2734              타 호텔 과는 드라이기 세기 감동 넓다 숙소 좋아하다 남편 푹 쉬다 오다\n",
       "Name: preprocessing_review, Length: 55931, dtype: object"
      ]
     },
     "execution_count": 73,
     "metadata": {},
     "output_type": "execute_result"
    }
   ],
   "source": [
    "train=review_train['preprocessing_review']\n",
    "test=review_test['preprocessing_review']\n",
    "train"
   ]
  },
  {
   "cell_type": "code",
   "execution_count": 74,
   "metadata": {},
   "outputs": [],
   "source": [
    "train.to_csv('train.txt',index=False)\n",
    "test.to_csv('test.txt',index=False)"
   ]
  },
  {
   "cell_type": "code",
   "execution_count": 76,
   "metadata": {},
   "outputs": [],
   "source": [
    "train.to_csv('train.csv',index=False)\n",
    "test.to_csv('test.csv',index=False)"
   ]
  },
  {
   "cell_type": "code",
   "execution_count": 101,
   "metadata": {},
   "outputs": [],
   "source": [
    "train.to_excel('train.xlsx',index=False)"
   ]
  },
  {
   "cell_type": "code",
   "execution_count": 103,
   "metadata": {},
   "outputs": [],
   "source": [
    "train.to_csv('train.txt',index=False)\n",
    "train.to_csv('train.csv',index=False)"
   ]
  },
  {
   "attachments": {},
   "cell_type": "markdown",
   "metadata": {},
   "source": [
    "## 다시 합쳐서 엑셀에서 작업"
   ]
  },
  {
   "cell_type": "code",
   "execution_count": null,
   "metadata": {},
   "outputs": [],
   "source": [
    "test_txt=pd.read_csv('test.txt')\n",
    "test_label=pd.read_csv('test_label.txt')\n",
    "\n",
    "print(test_txt.shape)\n",
    "print(test_label.shape)"
   ]
  },
  {
   "cell_type": "code",
   "execution_count": 78,
   "metadata": {},
   "outputs": [
    {
     "data": {
      "text/html": [
       "<div>\n",
       "<style scoped>\n",
       "    .dataframe tbody tr th:only-of-type {\n",
       "        vertical-align: middle;\n",
       "    }\n",
       "\n",
       "    .dataframe tbody tr th {\n",
       "        vertical-align: top;\n",
       "    }\n",
       "\n",
       "    .dataframe thead th {\n",
       "        text-align: right;\n",
       "    }\n",
       "</style>\n",
       "<table border=\"1\" class=\"dataframe\">\n",
       "  <thead>\n",
       "    <tr style=\"text-align: right;\">\n",
       "      <th></th>\n",
       "      <th>아무리 잠 만 자고 오다 출장 여행 동반 숙소 예약 하다 입장 미안하다 마음 들다</th>\n",
       "    </tr>\n",
       "  </thead>\n",
       "  <tbody>\n",
       "    <tr>\n",
       "      <th>0</th>\n",
       "      <td>숙소 모기 너무 많다 성수기 수영장 가격 너무 올리다 받다</td>\n",
       "    </tr>\n",
       "    <tr>\n",
       "      <th>1</th>\n",
       "      <td>에는 깜박 짐 두다 체크아웃 자다 보관 해주다 찾아가다 어렵다 상황 되다 택배 보내다</td>\n",
       "    </tr>\n",
       "    <tr>\n",
       "      <th>2</th>\n",
       "      <td>룸 상태 그렇다 이해 가다</td>\n",
       "    </tr>\n",
       "    <tr>\n",
       "      <th>3</th>\n",
       "      <td>도배 다 들뜨다</td>\n",
       "    </tr>\n",
       "    <tr>\n",
       "      <th>4</th>\n",
       "      <td>넓다 쾌적하다</td>\n",
       "    </tr>\n",
       "    <tr>\n",
       "      <th>...</th>\n",
       "      <td>...</td>\n",
       "    </tr>\n",
       "    <tr>\n",
       "      <th>1016</th>\n",
       "      <td>주차장 좁다 편임</td>\n",
       "    </tr>\n",
       "    <tr>\n",
       "      <th>1017</th>\n",
       "      <td>달 전 예약 하다 중간 확인 불구 하다 예약 돼다 오리발 내미다 데이터 확인 해보다...</td>\n",
       "    </tr>\n",
       "    <tr>\n",
       "      <th>1018</th>\n",
       "      <td>디럭스 더블 오션뷰</td>\n",
       "    </tr>\n",
       "    <tr>\n",
       "      <th>1019</th>\n",
       "      <td>루프 탑 수영장 애 졸라 서다 이용 유료 물 엄청 앝 고 가격 사악하다 타월 엄청 ...</td>\n",
       "    </tr>\n",
       "    <tr>\n",
       "      <th>1020</th>\n",
       "      <td>바닥 머리카락 뒹굴 어서 물티슈 다시 청소</td>\n",
       "    </tr>\n",
       "  </tbody>\n",
       "</table>\n",
       "<p>1021 rows × 1 columns</p>\n",
       "</div>"
      ],
      "text/plain": [
       "          아무리 잠 만 자고 오다 출장 여행 동반 숙소 예약 하다 입장 미안하다 마음 들다\n",
       "0                      숙소 모기 너무 많다 성수기 수영장 가격 너무 올리다 받다\n",
       "1       에는 깜박 짐 두다 체크아웃 자다 보관 해주다 찾아가다 어렵다 상황 되다 택배 보내다\n",
       "2                                        룸 상태 그렇다 이해 가다\n",
       "3                                              도배 다 들뜨다\n",
       "4                                               넓다 쾌적하다\n",
       "...                                                 ...\n",
       "1016                                          주차장 좁다 편임\n",
       "1017  달 전 예약 하다 중간 확인 불구 하다 예약 돼다 오리발 내미다 데이터 확인 해보다...\n",
       "1018                                         디럭스 더블 오션뷰\n",
       "1019  루프 탑 수영장 애 졸라 서다 이용 유료 물 엄청 앝 고 가격 사악하다 타월 엄청 ...\n",
       "1020                            바닥 머리카락 뒹굴 어서 물티슈 다시 청소\n",
       "\n",
       "[1021 rows x 1 columns]"
      ]
     },
     "execution_count": 78,
     "metadata": {},
     "output_type": "execute_result"
    }
   ],
   "source": [
    "test_txt"
   ]
  },
  {
   "cell_type": "code",
   "execution_count": 79,
   "metadata": {},
   "outputs": [
    {
     "data": {
      "text/html": [
       "<div>\n",
       "<style scoped>\n",
       "    .dataframe tbody tr th:only-of-type {\n",
       "        vertical-align: middle;\n",
       "    }\n",
       "\n",
       "    .dataframe tbody tr th {\n",
       "        vertical-align: top;\n",
       "    }\n",
       "\n",
       "    .dataframe thead th {\n",
       "        text-align: right;\n",
       "    }\n",
       "</style>\n",
       "<table border=\"1\" class=\"dataframe\">\n",
       "  <thead>\n",
       "    <tr style=\"text-align: right;\">\n",
       "      <th></th>\n",
       "      <th>아무리 잠 만 자고 오다 출장 여행 동반 숙소 예약 하다 입장 미안하다 마음 들다</th>\n",
       "      <th>가성비</th>\n",
       "    </tr>\n",
       "  </thead>\n",
       "  <tbody>\n",
       "    <tr>\n",
       "      <th>0</th>\n",
       "      <td>숙소 모기 너무 많다 성수기 수영장 가격 너무 올리다 받다</td>\n",
       "      <td>부대시설</td>\n",
       "    </tr>\n",
       "    <tr>\n",
       "      <th>1</th>\n",
       "      <td>에는 깜박 짐 두다 체크아웃 자다 보관 해주다 찾아가다 어렵다 상황 되다 택배 보내다</td>\n",
       "      <td>서비스</td>\n",
       "    </tr>\n",
       "    <tr>\n",
       "      <th>2</th>\n",
       "      <td>룸 상태 그렇다 이해 가다</td>\n",
       "      <td>룸</td>\n",
       "    </tr>\n",
       "    <tr>\n",
       "      <th>3</th>\n",
       "      <td>도배 다 들뜨다</td>\n",
       "      <td>룸</td>\n",
       "    </tr>\n",
       "    <tr>\n",
       "      <th>4</th>\n",
       "      <td>넓다 쾌적하다</td>\n",
       "      <td>룸</td>\n",
       "    </tr>\n",
       "    <tr>\n",
       "      <th>...</th>\n",
       "      <td>...</td>\n",
       "      <td>...</td>\n",
       "    </tr>\n",
       "    <tr>\n",
       "      <th>1016</th>\n",
       "      <td>주차장 좁다 편임</td>\n",
       "      <td>부대시설</td>\n",
       "    </tr>\n",
       "    <tr>\n",
       "      <th>1017</th>\n",
       "      <td>달 전 예약 하다 중간 확인 불구 하다 예약 돼다 오리발 내미다 데이터 확인 해보다...</td>\n",
       "      <td>서비스</td>\n",
       "    </tr>\n",
       "    <tr>\n",
       "      <th>1018</th>\n",
       "      <td>디럭스 더블 오션뷰</td>\n",
       "      <td>룸</td>\n",
       "    </tr>\n",
       "    <tr>\n",
       "      <th>1019</th>\n",
       "      <td>루프 탑 수영장 애 졸라 서다 이용 유료 물 엄청 앝 고 가격 사악하다 타월 엄청 ...</td>\n",
       "      <td>부대시설</td>\n",
       "    </tr>\n",
       "    <tr>\n",
       "      <th>1020</th>\n",
       "      <td>바닥 머리카락 뒹굴 어서 물티슈 다시 청소</td>\n",
       "      <td>룸</td>\n",
       "    </tr>\n",
       "  </tbody>\n",
       "</table>\n",
       "<p>1021 rows × 2 columns</p>\n",
       "</div>"
      ],
      "text/plain": [
       "          아무리 잠 만 자고 오다 출장 여행 동반 숙소 예약 하다 입장 미안하다 마음 들다   가성비\n",
       "0                      숙소 모기 너무 많다 성수기 수영장 가격 너무 올리다 받다  부대시설\n",
       "1       에는 깜박 짐 두다 체크아웃 자다 보관 해주다 찾아가다 어렵다 상황 되다 택배 보내다   서비스\n",
       "2                                        룸 상태 그렇다 이해 가다     룸\n",
       "3                                              도배 다 들뜨다     룸\n",
       "4                                               넓다 쾌적하다     룸\n",
       "...                                                 ...   ...\n",
       "1016                                          주차장 좁다 편임  부대시설\n",
       "1017  달 전 예약 하다 중간 확인 불구 하다 예약 돼다 오리발 내미다 데이터 확인 해보다...   서비스\n",
       "1018                                         디럭스 더블 오션뷰     룸\n",
       "1019  루프 탑 수영장 애 졸라 서다 이용 유료 물 엄청 앝 고 가격 사악하다 타월 엄청 ...  부대시설\n",
       "1020                            바닥 머리카락 뒹굴 어서 물티슈 다시 청소     룸\n",
       "\n",
       "[1021 rows x 2 columns]"
      ]
     },
     "execution_count": 79,
     "metadata": {},
     "output_type": "execute_result"
    }
   ],
   "source": [
    "test_df=pd.concat([test_txt,test_label],axis=1)\n",
    "test_df"
   ]
  },
  {
   "cell_type": "code",
   "execution_count": 80,
   "metadata": {},
   "outputs": [],
   "source": [
    "test_df.to_excel('test_라벨링.xlsx',index=False)\n"
   ]
  },
  {
   "cell_type": "code",
   "execution_count": 81,
   "metadata": {},
   "outputs": [
    {
     "data": {
      "text/html": [
       "<div>\n",
       "<style scoped>\n",
       "    .dataframe tbody tr th:only-of-type {\n",
       "        vertical-align: middle;\n",
       "    }\n",
       "\n",
       "    .dataframe tbody tr th {\n",
       "        vertical-align: top;\n",
       "    }\n",
       "\n",
       "    .dataframe thead th {\n",
       "        text-align: right;\n",
       "    }\n",
       "</style>\n",
       "<table border=\"1\" class=\"dataframe\">\n",
       "  <thead>\n",
       "    <tr style=\"text-align: right;\">\n",
       "      <th></th>\n",
       "      <th>Hotel_name</th>\n",
       "      <th>review</th>\n",
       "      <th>rate</th>\n",
       "      <th>preprocessing_review</th>\n",
       "    </tr>\n",
       "  </thead>\n",
       "  <tbody>\n",
       "    <tr>\n",
       "      <th>0</th>\n",
       "      <td>서울 가든 호텔</td>\n",
       "      <td>건물이 조금 오래되어 보이지만 내부는 깔끔하고 좋아요.</td>\n",
       "      <td>1</td>\n",
       "      <td>건물 오래되다 보이 내부 깔끔하다 좋다</td>\n",
       "    </tr>\n",
       "    <tr>\n",
       "      <th>1</th>\n",
       "      <td>서울 가든 호텔</td>\n",
       "      <td>직원분들도 친절하셔서 좋습니다.</td>\n",
       "      <td>1</td>\n",
       "      <td>직원 분들 친절하다 좋다</td>\n",
       "    </tr>\n",
       "    <tr>\n",
       "      <th>2</th>\n",
       "      <td>서울 가든 호텔</td>\n",
       "      <td>위치는 말할 것도 없이 좋은 것 같고, 주변에 맛 집도 꽤나 있어서 그것도 좋았습니다</td>\n",
       "      <td>1</td>\n",
       "      <td>위치 말 없이 좋다 주변 맛 집도 꽤 그것 좋다</td>\n",
       "    </tr>\n",
       "    <tr>\n",
       "      <th>3</th>\n",
       "      <td>서울 가든 호텔</td>\n",
       "      <td>교통이 편리하고 출장 때 이용하기 좋은 가성비 좋은 도심 호텔입니다</td>\n",
       "      <td>1</td>\n",
       "      <td>교통 편리하다 출장 이용 좋다 가성 비 좋다 도심 호텔</td>\n",
       "    </tr>\n",
       "    <tr>\n",
       "      <th>4</th>\n",
       "      <td>서울 가든 호텔</td>\n",
       "      <td>교통 마포역과 아주 가까워서 걸어서 2분 좋다.</td>\n",
       "      <td>1</td>\n",
       "      <td>교통 마포역 아주 가깝다 걸다 분 좋다</td>\n",
       "    </tr>\n",
       "  </tbody>\n",
       "</table>\n",
       "</div>"
      ],
      "text/plain": [
       "  Hotel_name                                           review  rate  \\\n",
       "0   서울 가든 호텔                   건물이 조금 오래되어 보이지만 내부는 깔끔하고 좋아요.     1   \n",
       "1   서울 가든 호텔                                직원분들도 친절하셔서 좋습니다.     1   \n",
       "2   서울 가든 호텔  위치는 말할 것도 없이 좋은 것 같고, 주변에 맛 집도 꽤나 있어서 그것도 좋았습니다     1   \n",
       "3   서울 가든 호텔            교통이 편리하고 출장 때 이용하기 좋은 가성비 좋은 도심 호텔입니다     1   \n",
       "4   서울 가든 호텔                       교통 마포역과 아주 가까워서 걸어서 2분 좋다.     1   \n",
       "\n",
       "             preprocessing_review  \n",
       "0           건물 오래되다 보이 내부 깔끔하다 좋다  \n",
       "1                   직원 분들 친절하다 좋다  \n",
       "2      위치 말 없이 좋다 주변 맛 집도 꽤 그것 좋다  \n",
       "3  교통 편리하다 출장 이용 좋다 가성 비 좋다 도심 호텔  \n",
       "4           교통 마포역 아주 가깝다 걸다 분 좋다  "
      ]
     },
     "execution_count": 81,
     "metadata": {},
     "output_type": "execute_result"
    }
   ],
   "source": [
    "df.head()"
   ]
  },
  {
   "attachments": {},
   "cell_type": "markdown",
   "metadata": {},
   "source": [
    "### 다시 불러와서 test,test_label로 분리"
   ]
  },
  {
   "cell_type": "code",
   "execution_count": 93,
   "metadata": {},
   "outputs": [
    {
     "data": {
      "text/html": [
       "<div>\n",
       "<style scoped>\n",
       "    .dataframe tbody tr th:only-of-type {\n",
       "        vertical-align: middle;\n",
       "    }\n",
       "\n",
       "    .dataframe tbody tr th {\n",
       "        vertical-align: top;\n",
       "    }\n",
       "\n",
       "    .dataframe thead th {\n",
       "        text-align: right;\n",
       "    }\n",
       "</style>\n",
       "<table border=\"1\" class=\"dataframe\">\n",
       "  <thead>\n",
       "    <tr style=\"text-align: right;\">\n",
       "      <th></th>\n",
       "      <th>아무리 잠 만 자고 오다 출장 여행 동반 숙소 예약 하다 입장 미안하다 마음 들다</th>\n",
       "      <th>가성비</th>\n",
       "    </tr>\n",
       "  </thead>\n",
       "  <tbody>\n",
       "    <tr>\n",
       "      <th>0</th>\n",
       "      <td>숙소 모기 너무 많다 성수기 수영장 가격 너무 올리다 받다</td>\n",
       "      <td>부대시설</td>\n",
       "    </tr>\n",
       "    <tr>\n",
       "      <th>1</th>\n",
       "      <td>에는 깜박 짐 두다 체크아웃 자다 보관 해주다 찾아가다 어렵다 상황 되다 택배 보내다</td>\n",
       "      <td>서비스</td>\n",
       "    </tr>\n",
       "    <tr>\n",
       "      <th>2</th>\n",
       "      <td>룸 상태 그렇다 이해 가다</td>\n",
       "      <td>룸</td>\n",
       "    </tr>\n",
       "    <tr>\n",
       "      <th>3</th>\n",
       "      <td>도배 다 들뜨다</td>\n",
       "      <td>룸</td>\n",
       "    </tr>\n",
       "    <tr>\n",
       "      <th>4</th>\n",
       "      <td>넓다 쾌적하다</td>\n",
       "      <td>룸</td>\n",
       "    </tr>\n",
       "  </tbody>\n",
       "</table>\n",
       "</div>"
      ],
      "text/plain": [
       "     아무리 잠 만 자고 오다 출장 여행 동반 숙소 예약 하다 입장 미안하다 마음 들다   가성비\n",
       "0                 숙소 모기 너무 많다 성수기 수영장 가격 너무 올리다 받다  부대시설\n",
       "1  에는 깜박 짐 두다 체크아웃 자다 보관 해주다 찾아가다 어렵다 상황 되다 택배 보내다   서비스\n",
       "2                                   룸 상태 그렇다 이해 가다     룸\n",
       "3                                         도배 다 들뜨다     룸\n",
       "4                                          넓다 쾌적하다     룸"
      ]
     },
     "execution_count": 93,
     "metadata": {},
     "output_type": "execute_result"
    }
   ],
   "source": [
    "test_df=pd.read_excel('test_라벨링.xlsx')\n",
    "test_df.head()"
   ]
  },
  {
   "cell_type": "code",
   "execution_count": 94,
   "metadata": {},
   "outputs": [
    {
     "data": {
      "text/plain": [
       "0                   숙소 모기 너무 많다 성수기 수영장 가격 너무 올리다 받다\n",
       "1    에는 깜박 짐 두다 체크아웃 자다 보관 해주다 찾아가다 어렵다 상황 되다 택배 보내다\n",
       "2                                     룸 상태 그렇다 이해 가다\n",
       "3                                           도배 다 들뜨다\n",
       "4                                            넓다 쾌적하다\n",
       "Name: 아무리 잠 만 자고 오다 출장 여행 동반 숙소 예약 하다 입장 미안하다 마음 들다, dtype: object"
      ]
     },
     "execution_count": 94,
     "metadata": {},
     "output_type": "execute_result"
    }
   ],
   "source": [
    "re_test=test_df['아무리 잠 만 자고 오다 출장 여행 동반 숙소 예약 하다 입장 미안하다 마음 들다']\n",
    "re_test_label=test_df['가성비']\n",
    "\n",
    "re_test.head()"
   ]
  },
  {
   "cell_type": "code",
   "execution_count": 95,
   "metadata": {},
   "outputs": [],
   "source": [
    "re_test.to_csv('test.txt',index=False)\n",
    "re_test_label.to_csv('test_label.txt',index=False)\n",
    "\n",
    "re_test.to_csv('test.csv',index=False)\n"
   ]
  },
  {
   "cell_type": "code",
   "execution_count": 97,
   "metadata": {},
   "outputs": [
    {
     "data": {
      "text/plain": [
       "(1021,)"
      ]
     },
     "execution_count": 97,
     "metadata": {},
     "output_type": "execute_result"
    }
   ],
   "source": [
    "re_test.shape"
   ]
  },
  {
   "cell_type": "code",
   "execution_count": 99,
   "metadata": {},
   "outputs": [
    {
     "data": {
      "text/plain": [
       "(1021,)"
      ]
     },
     "execution_count": 99,
     "metadata": {},
     "output_type": "execute_result"
    }
   ],
   "source": [
    "re_test_label.shape"
   ]
  },
  {
   "cell_type": "code",
   "execution_count": 109,
   "metadata": {},
   "outputs": [
    {
     "data": {
      "text/plain": [
       "가성비 \n",
       "룸       406\n",
       "기타      159\n",
       "위치      130\n",
       "서비스     120\n",
       "부대시설    101\n",
       "가성비      63\n",
       "목적       42\n",
       "dtype: int64"
      ]
     },
     "execution_count": 109,
     "metadata": {},
     "output_type": "execute_result"
    }
   ],
   "source": [
    "tt=pd.read_csv('test_label.txt')\n",
    "\n",
    "tt.value_counts()"
   ]
  },
  {
   "cell_type": "code",
   "execution_count": 114,
   "metadata": {},
   "outputs": [
    {
     "name": "stdout",
     "output_type": "stream",
     "text": [
      "리뷰의 최대길이 : 240\n",
      "리뷰의 평균길이 : 24.475460835672525\n"
     ]
    }
   ],
   "source": [
    "print('리뷰의 최대길이 :',max(len(review) for review in train['preprocessing_review'] ))\n",
    "print('리뷰의 평균길이 :',sum(map(len,train['preprocessing_review']))/len(train))"
   ]
  },
  {
   "cell_type": "code",
   "execution_count": 139,
   "metadata": {},
   "outputs": [
    {
     "data": {
      "text/html": [
       "<div>\n",
       "<style scoped>\n",
       "    .dataframe tbody tr th:only-of-type {\n",
       "        vertical-align: middle;\n",
       "    }\n",
       "\n",
       "    .dataframe tbody tr th {\n",
       "        vertical-align: top;\n",
       "    }\n",
       "\n",
       "    .dataframe thead th {\n",
       "        text-align: right;\n",
       "    }\n",
       "</style>\n",
       "<table border=\"1\" class=\"dataframe\">\n",
       "  <thead>\n",
       "    <tr style=\"text-align: right;\">\n",
       "      <th></th>\n",
       "      <th>Hotel</th>\n",
       "      <th>preprocessing_review</th>\n",
       "    </tr>\n",
       "  </thead>\n",
       "  <tbody>\n",
       "    <tr>\n",
       "      <th>0</th>\n",
       "      <td>골든 서울 호텔</td>\n",
       "      <td>먼지 진드기 알레르기 호텔 이불 쓰다 몸 간지럽다 골든 서울 호텔 그렇다</td>\n",
       "    </tr>\n",
       "    <tr>\n",
       "      <th>1</th>\n",
       "      <td>골든 서울 호텔</td>\n",
       "      <td>건 없다 방이 엄청 깔끔하다 주소</td>\n",
       "    </tr>\n",
       "    <tr>\n",
       "      <th>2</th>\n",
       "      <td>골든 서울 호텔</td>\n",
       "      <td>강서구 영등포 옆 이라서 영등포 라고 보다 괜찮다 정도 에요</td>\n",
       "    </tr>\n",
       "    <tr>\n",
       "      <th>3</th>\n",
       "      <td>골든 서울 호텔</td>\n",
       "      <td>이용 너무 편하다 직원 분들 친절하다</td>\n",
       "    </tr>\n",
       "    <tr>\n",
       "      <th>4</th>\n",
       "      <td>골든 서울 호텔</td>\n",
       "      <td>개인 메시지 창 확인 해 주다</td>\n",
       "    </tr>\n",
       "  </tbody>\n",
       "</table>\n",
       "</div>"
      ],
      "text/plain": [
       "      Hotel                      preprocessing_review\n",
       "0  골든 서울 호텔  먼지 진드기 알레르기 호텔 이불 쓰다 몸 간지럽다 골든 서울 호텔 그렇다\n",
       "1  골든 서울 호텔                        건 없다 방이 엄청 깔끔하다 주소\n",
       "2  골든 서울 호텔         강서구 영등포 옆 이라서 영등포 라고 보다 괜찮다 정도 에요\n",
       "3  골든 서울 호텔                      이용 너무 편하다 직원 분들 친절하다\n",
       "4  골든 서울 호텔                          개인 메시지 창 확인 해 주다"
      ]
     },
     "execution_count": 139,
     "metadata": {},
     "output_type": "execute_result"
    }
   ],
   "source": [
    "golden_seoul=pd.read_csv('골든 서울 호텔 문장 분리.csv')\n",
    "golden_seoul.head()\n"
   ]
  },
  {
   "cell_type": "code",
   "execution_count": 140,
   "metadata": {},
   "outputs": [],
   "source": [
    "golden_seoul.to_excel('골든 서울 호텔 문장 분리.xlsx')"
   ]
  },
  {
   "cell_type": "code",
   "execution_count": 143,
   "metadata": {},
   "outputs": [
    {
     "data": {
      "text/html": [
       "<div>\n",
       "<style scoped>\n",
       "    .dataframe tbody tr th:only-of-type {\n",
       "        vertical-align: middle;\n",
       "    }\n",
       "\n",
       "    .dataframe tbody tr th {\n",
       "        vertical-align: top;\n",
       "    }\n",
       "\n",
       "    .dataframe thead th {\n",
       "        text-align: right;\n",
       "    }\n",
       "</style>\n",
       "<table border=\"1\" class=\"dataframe\">\n",
       "  <thead>\n",
       "    <tr style=\"text-align: right;\">\n",
       "      <th></th>\n",
       "      <th>Unnamed: 0</th>\n",
       "      <th>Hotel</th>\n",
       "      <th>preprocessing_review</th>\n",
       "      <th>aspect</th>\n",
       "    </tr>\n",
       "  </thead>\n",
       "  <tbody>\n",
       "    <tr>\n",
       "      <th>0</th>\n",
       "      <td>0</td>\n",
       "      <td>골든 서울 호텔</td>\n",
       "      <td>먼지 진드기 알레르기 호텔 이불 쓰다 몸 간지럽다 골든 서울 호텔 그렇다</td>\n",
       "      <td>룸</td>\n",
       "    </tr>\n",
       "    <tr>\n",
       "      <th>1</th>\n",
       "      <td>1</td>\n",
       "      <td>골든 서울 호텔</td>\n",
       "      <td>건 없다 방이 엄청 깔끔하다 주소</td>\n",
       "      <td>룸</td>\n",
       "    </tr>\n",
       "    <tr>\n",
       "      <th>2</th>\n",
       "      <td>2</td>\n",
       "      <td>골든 서울 호텔</td>\n",
       "      <td>강서구 영등포 옆 이라서 영등포 라고 보다 괜찮다 정도 에요</td>\n",
       "      <td>위치</td>\n",
       "    </tr>\n",
       "    <tr>\n",
       "      <th>3</th>\n",
       "      <td>3</td>\n",
       "      <td>골든 서울 호텔</td>\n",
       "      <td>이용 너무 편하다 직원 분들 친절하다</td>\n",
       "      <td>서비스</td>\n",
       "    </tr>\n",
       "    <tr>\n",
       "      <th>4</th>\n",
       "      <td>4</td>\n",
       "      <td>골든 서울 호텔</td>\n",
       "      <td>개인 메시지 창 확인 해 주다</td>\n",
       "      <td>서비스</td>\n",
       "    </tr>\n",
       "  </tbody>\n",
       "</table>\n",
       "</div>"
      ],
      "text/plain": [
       "   Unnamed: 0     Hotel                      preprocessing_review aspect\n",
       "0           0  골든 서울 호텔  먼지 진드기 알레르기 호텔 이불 쓰다 몸 간지럽다 골든 서울 호텔 그렇다      룸\n",
       "1           1  골든 서울 호텔                        건 없다 방이 엄청 깔끔하다 주소      룸\n",
       "2           2  골든 서울 호텔         강서구 영등포 옆 이라서 영등포 라고 보다 괜찮다 정도 에요     위치\n",
       "3           3  골든 서울 호텔                      이용 너무 편하다 직원 분들 친절하다    서비스\n",
       "4           4  골든 서울 호텔                          개인 메시지 창 확인 해 주다    서비스"
      ]
     },
     "execution_count": 143,
     "metadata": {},
     "output_type": "execute_result"
    }
   ],
   "source": [
    "golden=pd.read_excel('골든 서울 호텔 문장 분리.xlsx')\n",
    "golden.head()"
   ]
  },
  {
   "cell_type": "code",
   "execution_count": 142,
   "metadata": {},
   "outputs": [],
   "source": [
    "review=golden['preprocessing_review']\n",
    "label=golden['aspect']\n",
    "\n",
    "review.to_csv('골든 서울 호텔 리뷰만.txt',index=False)\n",
    "label.to_csv('골든 서울 호텔 label.txt',index=False)"
   ]
  },
  {
   "cell_type": "code",
   "execution_count": null,
   "metadata": {},
   "outputs": [],
   "source": []
  }
 ],
 "metadata": {
  "kernelspec": {
   "display_name": "preprocess",
   "language": "python",
   "name": "python3"
  },
  "language_info": {
   "codemirror_mode": {
    "name": "ipython",
    "version": 3
   },
   "file_extension": ".py",
   "mimetype": "text/x-python",
   "name": "python",
   "nbconvert_exporter": "python",
   "pygments_lexer": "ipython3",
   "version": "3.10.9"
  },
  "orig_nbformat": 4,
  "vscode": {
   "interpreter": {
    "hash": "4636d43c3d2fa73af7729580212486d9934489a8e47ffb36c4f1f7a0fd7332a6"
   }
  }
 },
 "nbformat": 4,
 "nbformat_minor": 2
}
